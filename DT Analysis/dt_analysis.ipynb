{
 "cells": [
  {
   "cell_type": "code",
   "execution_count": 1,
   "metadata": {},
   "outputs": [],
   "source": [
    "import pandas as pd\n",
    "import matplotlib.pyplot as plt\n",
    "import seaborn as sns"
   ]
  },
  {
   "cell_type": "code",
   "execution_count": 2,
   "metadata": {},
   "outputs": [],
   "source": [
    "df = pd.read_excel('dt_analysis.xlsx', index_col=0)"
   ]
  },
  {
   "cell_type": "code",
   "execution_count": 3,
   "metadata": {},
   "outputs": [
    {
     "data": {
      "text/html": [
       "<div>\n",
       "<style scoped>\n",
       "    .dataframe tbody tr th:only-of-type {\n",
       "        vertical-align: middle;\n",
       "    }\n",
       "\n",
       "    .dataframe tbody tr th {\n",
       "        vertical-align: top;\n",
       "    }\n",
       "\n",
       "    .dataframe thead th {\n",
       "        text-align: right;\n",
       "    }\n",
       "</style>\n",
       "<table border=\"1\" class=\"dataframe\">\n",
       "  <thead>\n",
       "    <tr style=\"text-align: right;\">\n",
       "      <th></th>\n",
       "      <th>dataset</th>\n",
       "      <th>language</th>\n",
       "      <th>splitting_criterion</th>\n",
       "      <th>rows</th>\n",
       "      <th>columns</th>\n",
       "      <th>train/test</th>\n",
       "      <th>leaf_nodes</th>\n",
       "      <th>depth</th>\n",
       "      <th>accuracy</th>\n",
       "      <th>generation_time</th>\n",
       "      <th>prediction_time</th>\n",
       "    </tr>\n",
       "    <tr>\n",
       "      <th>decision_tree</th>\n",
       "      <th></th>\n",
       "      <th></th>\n",
       "      <th></th>\n",
       "      <th></th>\n",
       "      <th></th>\n",
       "      <th></th>\n",
       "      <th></th>\n",
       "      <th></th>\n",
       "      <th></th>\n",
       "      <th></th>\n",
       "      <th></th>\n",
       "    </tr>\n",
       "  </thead>\n",
       "  <tbody>\n",
       "    <tr>\n",
       "      <th>d1</th>\n",
       "      <td>heart failure prediction</td>\n",
       "      <td>r</td>\n",
       "      <td>gini</td>\n",
       "      <td>299</td>\n",
       "      <td>13</td>\n",
       "      <td>2</td>\n",
       "      <td>4</td>\n",
       "      <td>3</td>\n",
       "      <td>80.41</td>\n",
       "      <td>0.012965</td>\n",
       "      <td>0.005985</td>\n",
       "    </tr>\n",
       "    <tr>\n",
       "      <th>d2</th>\n",
       "      <td>heart failure prediction</td>\n",
       "      <td>r</td>\n",
       "      <td>gain ratio</td>\n",
       "      <td>299</td>\n",
       "      <td>13</td>\n",
       "      <td>2</td>\n",
       "      <td>7</td>\n",
       "      <td>6</td>\n",
       "      <td>78.35</td>\n",
       "      <td>0.115692</td>\n",
       "      <td>0.056814</td>\n",
       "    </tr>\n",
       "    <tr>\n",
       "      <th>d3</th>\n",
       "      <td>heart failure prediction</td>\n",
       "      <td>r</td>\n",
       "      <td>gain ratio</td>\n",
       "      <td>299</td>\n",
       "      <td>13</td>\n",
       "      <td>2</td>\n",
       "      <td>6</td>\n",
       "      <td>5</td>\n",
       "      <td>80.41</td>\n",
       "      <td>0.014924</td>\n",
       "      <td>0.007979</td>\n",
       "    </tr>\n",
       "    <tr>\n",
       "      <th>d4</th>\n",
       "      <td>heart failure prediction</td>\n",
       "      <td>python</td>\n",
       "      <td>gini</td>\n",
       "      <td>299</td>\n",
       "      <td>13</td>\n",
       "      <td>2</td>\n",
       "      <td>16</td>\n",
       "      <td>5</td>\n",
       "      <td>74.23</td>\n",
       "      <td>0.002433</td>\n",
       "      <td>0.000757</td>\n",
       "    </tr>\n",
       "    <tr>\n",
       "      <th>d5</th>\n",
       "      <td>heart failure prediction</td>\n",
       "      <td>python</td>\n",
       "      <td>info gain</td>\n",
       "      <td>299</td>\n",
       "      <td>13</td>\n",
       "      <td>2</td>\n",
       "      <td>26</td>\n",
       "      <td>8</td>\n",
       "      <td>74.23</td>\n",
       "      <td>0.007552</td>\n",
       "      <td>0.001010</td>\n",
       "    </tr>\n",
       "  </tbody>\n",
       "</table>\n",
       "</div>"
      ],
      "text/plain": [
       "                                dataset language splitting_criterion  rows  \\\n",
       "decision_tree                                                                \n",
       "d1             heart failure prediction        r                gini   299   \n",
       "d2             heart failure prediction        r          gain ratio   299   \n",
       "d3             heart failure prediction        r          gain ratio   299   \n",
       "d4             heart failure prediction   python                gini   299   \n",
       "d5             heart failure prediction   python           info gain   299   \n",
       "\n",
       "               columns  train/test  leaf_nodes  depth  accuracy  \\\n",
       "decision_tree                                                     \n",
       "d1                  13           2           4      3     80.41   \n",
       "d2                  13           2           7      6     78.35   \n",
       "d3                  13           2           6      5     80.41   \n",
       "d4                  13           2          16      5     74.23   \n",
       "d5                  13           2          26      8     74.23   \n",
       "\n",
       "               generation_time  prediction_time  \n",
       "decision_tree                                    \n",
       "d1                    0.012965         0.005985  \n",
       "d2                    0.115692         0.056814  \n",
       "d3                    0.014924         0.007979  \n",
       "d4                    0.002433         0.000757  \n",
       "d5                    0.007552         0.001010  "
      ]
     },
     "execution_count": 3,
     "metadata": {},
     "output_type": "execute_result"
    }
   ],
   "source": [
    "df.drop(df.columns[11:], axis=1, inplace=True)\n",
    "df.head()"
   ]
  },
  {
   "cell_type": "code",
   "execution_count": 4,
   "metadata": {},
   "outputs": [
    {
     "name": "stdout",
     "output_type": "stream",
     "text": [
      "<class 'pandas.core.frame.DataFrame'>\n",
      "Index: 24 entries, d1 to d23\n",
      "Data columns (total 11 columns):\n",
      "dataset                24 non-null object\n",
      "language               24 non-null object\n",
      "splitting_criterion    24 non-null object\n",
      "rows                   24 non-null int64\n",
      "columns                24 non-null int64\n",
      "train/test             24 non-null int64\n",
      "leaf_nodes             24 non-null int64\n",
      "depth                  24 non-null int64\n",
      "accuracy               24 non-null float64\n",
      "generation_time        24 non-null float64\n",
      "prediction_time        24 non-null float64\n",
      "dtypes: float64(3), int64(5), object(3)\n",
      "memory usage: 2.2+ KB\n"
     ]
    }
   ],
   "source": [
    "df.info()"
   ]
  },
  {
   "cell_type": "code",
   "execution_count": 40,
   "metadata": {},
   "outputs": [
    {
     "data": {
      "text/plain": [
       "Text(0, 0.5, 'accuracy')"
      ]
     },
     "execution_count": 40,
     "metadata": {},
     "output_type": "execute_result"
    },
    {
     "data": {
      "image/png": "[encoded data removed]",
      "text/plain": [
       "<Figure size 288x288 with 1 Axes>"
      ]
     },
     "metadata": {
      "needs_background": "light"
     },
     "output_type": "display_data"
    }
   ],
   "source": [
    "s = df.groupby(['language']).mean()['accuracy']\n",
    "tmp = s.plot.bar(figsize=(4,4))\n",
    "tmp.set_ylabel(\"accuracy\")"
   ]
  },
  {
   "cell_type": "code",
   "execution_count": 39,
   "metadata": {},
   "outputs": [
    {
     "data": {
      "text/plain": [
       "Text(0, 0.5, 'generation_time')"
      ]
     },
     "execution_count": 39,
     "metadata": {},
     "output_type": "execute_result"
    },
    {
     "data": {
      "image/png": "[encoded data removed]",
      "text/plain": [
       "<Figure size 288x288 with 1 Axes>"
      ]
     },
     "metadata": {
      "needs_background": "light"
     },
     "output_type": "display_data"
    }
   ],
   "source": [
    "s = df.groupby(['language']).mean()['generation_time']\n",
    "tmp = s.plot.bar(figsize=(4,4))\n",
    "tmp.set_ylabel(\"generation_time\")"
   ]
  },
  {
   "cell_type": "code",
   "execution_count": 41,
   "metadata": {},
   "outputs": [
    {
     "data": {
      "image/png": "[encoded data removed]",
      "text/plain": [
       "<Figure size 288x288 with 1 Axes>"
      ]
     },
     "metadata": {
      "needs_background": "light"
     },
     "output_type": "display_data"
    }
   ],
   "source": [
    "df4 = df.groupby(['language']).mean()\n",
    "y = df4[df4.columns[-2:]]\n",
    "ax = y.plot.barh(figsize=(4,4))"
   ]
  },
  {
   "cell_type": "code",
   "execution_count": 45,
   "metadata": {},
   "outputs": [
    {
     "data": {
      "text/plain": [
       "Text(0, 0.5, 'accuracy')"
      ]
     },
     "execution_count": 45,
     "metadata": {},
     "output_type": "execute_result"
    },
    {
     "data": {
      "image/png": "[encoded data removed]",
      "text/plain": [
       "<Figure size 288x288 with 1 Axes>"
      ]
     },
     "metadata": {
      "needs_background": "light"
     },
     "output_type": "display_data"
    }
   ],
   "source": [
    "s = df.groupby(['depth']).mean()['accuracy']\n",
    "tmp = s.plot.bar(figsize=(4,4))\n",
    "tmp.set_ylabel(\"accuracy\")"
   ]
  },
  {
   "cell_type": "code",
   "execution_count": 44,
   "metadata": {},
   "outputs": [
    {
     "data": {
      "text/plain": [
       "Text(0, 0.5, 'generation_time')"
      ]
     },
     "execution_count": 44,
     "metadata": {},
     "output_type": "execute_result"
    },
    {
     "data": {
      "image/png": "[encoded data removed]",
      "text/plain": [
       "<Figure size 288x288 with 1 Axes>"
      ]
     },
     "metadata": {
      "needs_background": "light"
     },
     "output_type": "display_data"
    }
   ],
   "source": [
    "s = df.groupby(['leaf_nodes','language']).mean()['generation_time']\n",
    "tmp = s.plot.bar(figsize=(4,4))\n",
    "tmp.set_ylabel(\"generation_time\")"
   ]
  },
  {
   "cell_type": "code",
   "execution_count": 43,
   "metadata": {
    "scrolled": false
   },
   "outputs": [
    {
     "data": {
      "text/plain": [
       "Text(0, 0.5, 'accuracy')"
      ]
     },
     "execution_count": 43,
     "metadata": {},
     "output_type": "execute_result"
    },
    {
     "data": {
      "image/png": "[encoded data removed]",
      "text/plain": [
       "<Figure size 288x288 with 1 Axes>"
      ]
     },
     "metadata": {
      "needs_background": "light"
     },
     "output_type": "display_data"
    }
   ],
   "source": [
    "s = df.groupby(['leaf_nodes','language']).mean()['accuracy']\n",
    "tmp = s.plot.bar(figsize=(4,4))\n",
    "tmp.set_ylabel(\"accuracy\")"
   ]
  },
  {
   "cell_type": "code",
   "execution_count": 42,
   "metadata": {},
   "outputs": [
    {
     "data": {
      "text/plain": [
       "Text(0, 0.5, 'accuracy')"
      ]
     },
     "execution_count": 42,
     "metadata": {},
     "output_type": "execute_result"
    },
    {
     "data": {
      "image/png": "[encoded data removed]",
      "text/plain": [
       "<Figure size 288x288 with 1 Axes>"
      ]
     },
     "metadata": {
      "needs_background": "light"
     },
     "output_type": "display_data"
    }
   ],
   "source": [
    "s = df.groupby(['depth','language']).mean()['accuracy']\n",
    "tmp = s.plot.bar(figsize=(4,4))\n",
    "tmp.set_ylabel(\"accuracy\")"
   ]
  },
  {
   "cell_type": "code",
   "execution_count": 52,
   "metadata": {},
   "outputs": [
    {
     "data": {
      "text/plain": [
       "Text(0, 0.5, 'accuracy')"
      ]
     },
     "execution_count": 52,
     "metadata": {},
     "output_type": "execute_result"
    },
    {
     "data": {
      "image/png": "[encoded data removed]",
      "text/plain": [
       "<Figure size 288x288 with 1 Axes>"
      ]
     },
     "metadata": {
      "needs_background": "light"
     },
     "output_type": "display_data"
    }
   ],
   "source": [
    "s = df.groupby(['rows',\"columns\"]).mean()['accuracy']\n",
    "tmp = s.plot.bar(figsize=(4,4))\n",
    "tmp.set_ylabel(\"accuracy\")"
   ]
  },
  {
   "cell_type": "code",
   "execution_count": 58,
   "metadata": {},
   "outputs": [
    {
     "data": {
      "text/plain": [
       "Text(0, 0.5, 'accuracy')"
      ]
     },
     "execution_count": 58,
     "metadata": {},
     "output_type": "execute_result"
    },
    {
     "data": {
      "image/png": "[encoded data removed]",
      "text/plain": [
       "<Figure size 288x288 with 1 Axes>"
      ]
     },
     "metadata": {
      "needs_background": "light"
     },
     "output_type": "display_data"
    }
   ],
   "source": [
    "s = df.groupby([\"train/test\",\"leaf_nodes\"]).mean()['accuracy']\n",
    "tmp = s.plot.bar(figsize=(4,4))\n",
    "tmp.set_ylabel(\"accuracy\")"
   ]
  },
  {
   "cell_type": "code",
   "execution_count": null,
   "metadata": {},
   "outputs": [],
   "source": []
  }
 ],
 "metadata": {
  "kernelspec": {
   "display_name": "Python 3",
   "language": "python",
   "name": "python3"
  },
  "language_info": {
   "codemirror_mode": {
    "name": "ipython",
    "version": 3
   },
   "file_extension": ".py",
   "mimetype": "text/x-python",
   "name": "python",
   "nbconvert_exporter": "python",
   "pygments_lexer": "ipython3",
   "version": "3.7.6"
  }
 },
 "nbformat": 4,
 "nbformat_minor": 4
}
