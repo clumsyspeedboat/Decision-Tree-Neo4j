{
 "cells": [
  {
   "cell_type": "code",
   "execution_count": 1,
   "metadata": {},
   "outputs": [],
   "source": [
    "import pandas as pd\n",
    "import matplotlib.pyplot as plt\n",
    "from sklearn import metrics\n",
    "from sklearn.metrics import classification_report\n",
    "from sklearn.tree import DecisionTreeClassifier\n",
    "from sklearn.metrics import confusion_matrix, accuracy_score, roc_auc_score\n",
    "from sklearn.tree import plot_tree\n",
    "from sklearn.model_selection import cross_val_score, KFold\n",
    "from timeit import default_timer as timer\n",
    "import time\n",
    "from statistics import *\n",
    "from sklearn.metrics import matthews_corrcoef\n",
    "import warnings\n",
    "import math\n",
    "warnings.filterwarnings('ignore')\n",
    "import numpy as np"
   ]
  },
  {
   "cell_type": "code",
   "execution_count": 2,
   "metadata": {},
   "outputs": [
    {
     "data": {
      "text/html": [
       "<div>\n",
       "<style scoped>\n",
       "    .dataframe tbody tr th:only-of-type {\n",
       "        vertical-align: middle;\n",
       "    }\n",
       "\n",
       "    .dataframe tbody tr th {\n",
       "        vertical-align: top;\n",
       "    }\n",
       "\n",
       "    .dataframe thead th {\n",
       "        text-align: right;\n",
       "    }\n",
       "</style>\n",
       "<table border=\"1\" class=\"dataframe\">\n",
       "  <thead>\n",
       "    <tr style=\"text-align: right;\">\n",
       "      <th></th>\n",
       "      <th>age</th>\n",
       "      <th>anaemia</th>\n",
       "      <th>creatinine_phosphokinase</th>\n",
       "      <th>diabetes</th>\n",
       "      <th>ejection_fraction</th>\n",
       "      <th>high_blood_pressure</th>\n",
       "      <th>platelets</th>\n",
       "      <th>serum_creatinine</th>\n",
       "      <th>serum_sodium</th>\n",
       "      <th>sex</th>\n",
       "      <th>smoking</th>\n",
       "      <th>time</th>\n",
       "      <th>DEATH_EVENT</th>\n",
       "    </tr>\n",
       "  </thead>\n",
       "  <tbody>\n",
       "    <tr>\n",
       "      <th>0</th>\n",
       "      <td>75.0</td>\n",
       "      <td>0</td>\n",
       "      <td>582</td>\n",
       "      <td>0</td>\n",
       "      <td>20</td>\n",
       "      <td>1</td>\n",
       "      <td>265000.00</td>\n",
       "      <td>1.9</td>\n",
       "      <td>130</td>\n",
       "      <td>1</td>\n",
       "      <td>0</td>\n",
       "      <td>4</td>\n",
       "      <td>1</td>\n",
       "    </tr>\n",
       "    <tr>\n",
       "      <th>1</th>\n",
       "      <td>55.0</td>\n",
       "      <td>0</td>\n",
       "      <td>7861</td>\n",
       "      <td>0</td>\n",
       "      <td>38</td>\n",
       "      <td>0</td>\n",
       "      <td>263358.03</td>\n",
       "      <td>1.1</td>\n",
       "      <td>136</td>\n",
       "      <td>1</td>\n",
       "      <td>0</td>\n",
       "      <td>6</td>\n",
       "      <td>1</td>\n",
       "    </tr>\n",
       "    <tr>\n",
       "      <th>2</th>\n",
       "      <td>65.0</td>\n",
       "      <td>0</td>\n",
       "      <td>146</td>\n",
       "      <td>0</td>\n",
       "      <td>20</td>\n",
       "      <td>0</td>\n",
       "      <td>162000.00</td>\n",
       "      <td>1.3</td>\n",
       "      <td>129</td>\n",
       "      <td>1</td>\n",
       "      <td>1</td>\n",
       "      <td>7</td>\n",
       "      <td>1</td>\n",
       "    </tr>\n",
       "    <tr>\n",
       "      <th>3</th>\n",
       "      <td>50.0</td>\n",
       "      <td>1</td>\n",
       "      <td>111</td>\n",
       "      <td>0</td>\n",
       "      <td>20</td>\n",
       "      <td>0</td>\n",
       "      <td>210000.00</td>\n",
       "      <td>1.9</td>\n",
       "      <td>137</td>\n",
       "      <td>1</td>\n",
       "      <td>0</td>\n",
       "      <td>7</td>\n",
       "      <td>1</td>\n",
       "    </tr>\n",
       "    <tr>\n",
       "      <th>4</th>\n",
       "      <td>65.0</td>\n",
       "      <td>1</td>\n",
       "      <td>160</td>\n",
       "      <td>1</td>\n",
       "      <td>20</td>\n",
       "      <td>0</td>\n",
       "      <td>327000.00</td>\n",
       "      <td>2.7</td>\n",
       "      <td>116</td>\n",
       "      <td>0</td>\n",
       "      <td>0</td>\n",
       "      <td>8</td>\n",
       "      <td>1</td>\n",
       "    </tr>\n",
       "  </tbody>\n",
       "</table>\n",
       "</div>"
      ],
      "text/plain": [
       "    age  anaemia  creatinine_phosphokinase  diabetes  ejection_fraction  \\\n",
       "0  75.0        0                       582         0                 20   \n",
       "1  55.0        0                      7861         0                 38   \n",
       "2  65.0        0                       146         0                 20   \n",
       "3  50.0        1                       111         0                 20   \n",
       "4  65.0        1                       160         1                 20   \n",
       "\n",
       "   high_blood_pressure  platelets  serum_creatinine  serum_sodium  sex  \\\n",
       "0                    1  265000.00               1.9           130    1   \n",
       "1                    0  263358.03               1.1           136    1   \n",
       "2                    0  162000.00               1.3           129    1   \n",
       "3                    0  210000.00               1.9           137    1   \n",
       "4                    0  327000.00               2.7           116    0   \n",
       "\n",
       "   smoking  time  DEATH_EVENT  \n",
       "0        0     4            1  \n",
       "1        0     6            1  \n",
       "2        1     7            1  \n",
       "3        0     7            1  \n",
       "4        0     8            1  "
      ]
     },
     "execution_count": 2,
     "metadata": {},
     "output_type": "execute_result"
    }
   ],
   "source": [
    "path = r\"/Users/nasim/Desktop/data/HeartFailurePrediction.csv\"\n",
    "df = pd.read_csv(path)\n",
    "df.head()"
   ]
  },
  {
   "cell_type": "code",
   "execution_count": 3,
   "metadata": {},
   "outputs": [],
   "source": [
    "X = df[['age', 'anaemia', 'creatinine_phosphokinase', 'diabetes',\n",
    "       'ejection_fraction', 'high_blood_pressure', 'platelets',\n",
    "       'serum_creatinine', 'serum_sodium', 'sex', 'smoking', 'time']]\n",
    "y = df['DEATH_EVENT']"
   ]
  },
  {
   "cell_type": "code",
   "execution_count": 4,
   "metadata": {},
   "outputs": [],
   "source": [
    "# Python program to get average of a list\n",
    "def average_list(lst):\n",
    "    return mean(lst)"
   ]
  },
  {
   "cell_type": "code",
   "execution_count": 5,
   "metadata": {},
   "outputs": [],
   "source": [
    "# Cross Validation 20 folds : Gini\n",
    "def create_dt_gini(criter='gini'):\n",
    "    a = timer()\n",
    "    \n",
    "    kf = KFold(n_splits=20)\n",
    "    scores = []\n",
    "    mcc_scores = []\n",
    "    \n",
    "    dt = DecisionTreeClassifier(criterion=criter)\n",
    "    target_names = ['0', '1',]\n",
    "    \n",
    "    for train_index, test_index in kf.split(X):\n",
    "        #print(\"Train index: {0}, \\nTest index: {1}\".format(train_index, test_index))\n",
    "        X_train, X_test = X.iloc[train_index], X.iloc[test_index]\n",
    "        y_train, y_test = y.iloc[train_index], y.iloc[test_index]\n",
    "\n",
    "        dt.fit(X_train, y_train)\n",
    "        \n",
    "        y_pred = dt.predict(X_test)\n",
    "        \n",
    "        mcc_scores.append(matthews_corrcoef(y_test, y_pred))\n",
    "        \n",
    "        scores.append(dt.score(X_test, y_test))\n",
    "        \n",
    "    b = timer()\n",
    "    \n",
    "\n",
    "    delta = b - a\n",
    "    \n",
    "    \n",
    "    accuracy = str(np.mean(scores))\n",
    "    generation_time = str(delta)\n",
    "    mcc_avg = average_list(mcc_scores)\n",
    "    return accuracy,generation_time, mcc_avg"
   ]
  },
  {
   "cell_type": "code",
   "execution_count": 6,
   "metadata": {},
   "outputs": [
    {
     "name": "stdout",
     "output_type": "stream",
     "text": [
      "**************************************************\n",
      "Evaluating for information gain\n",
      "Accuracy: 78.39682539682539\n",
      "Mcc: 0.16295365677292056\n",
      "Average generation time : 0.19536671266666705 sec\n",
      "**************************************************\n"
     ]
    }
   ],
   "source": [
    "accuracies = []\n",
    "times = []\n",
    "mccs = []\n",
    "for _ in range(30):\n",
    "    #change criterion to 'entropy' for info gain calculation and 'gini' for gini index calculation\n",
    "    acc, gtime, mcc_av = create_dt_gini(criter = \"gini\")\n",
    "    accuracies.append(acc)\n",
    "    times.append(gtime)\n",
    "    mccs.append(mcc_av)\n",
    "\n",
    "conveted_accuracies = [float(x) for x in accuracies]\n",
    "converted_times =  [float(x) for x in times]\n",
    "converted_mccs = [float(x) for x in mccs]\n",
    "\n",
    "avg_accuracy = average_list(conveted_accuracies)\n",
    "avg_time = average_list(converted_times)\n",
    "avg_mcc = average_list(converted_mccs)\n",
    "\n",
    "print('*'*50)\n",
    "print('Evaluating for information gain')\n",
    "print('Accuracy: {}'.format(avg_accuracy*100))\n",
    "print('Mcc: {}'.format(avg_mcc))\n",
    "print('Average generation time : {} sec'.format(avg_time))\n",
    "print('*'*50)"
   ]
  },
  {
   "cell_type": "code",
   "execution_count": 7,
   "metadata": {},
   "outputs": [
    {
     "name": "stdout",
     "output_type": "stream",
     "text": [
      "**************************************************\n",
      "Evaluating for gini\n",
      "Accuracy: 76.4984126984127\n",
      "Mcc: 0.10966634018559643\n",
      "Average generation time : 0.18223392336666605 sec\n",
      "**************************************************\n"
     ]
    }
   ],
   "source": [
    "accuracies = []\n",
    "times = []\n",
    "mccs = []\n",
    "for _ in range(30):\n",
    "    #change criterion to 'entropy' for info gain calculation and 'gini' for gini index calculation\n",
    "    acc, gtime, mcc_av = create_dt_gini(criter = \"entropy\")\n",
    "    accuracies.append(acc)\n",
    "    times.append(gtime)\n",
    "    mccs.append(mcc_av)\n",
    "\n",
    "conveted_accuracies = [float(x) for x in accuracies]\n",
    "converted_times =  [float(x) for x in times]\n",
    "converted_mccs = [float(x) for x in mccs]\n",
    "\n",
    "avg_accuracy = average_list(conveted_accuracies)\n",
    "avg_time = average_list(converted_times)\n",
    "avg_mcc = average_list(converted_mccs)\n",
    "\n",
    "print('*'*50)\n",
    "print('Evaluating for gini')\n",
    "print('Accuracy: {}'.format(avg_accuracy * 100))\n",
    "print('Mcc: {}'.format(avg_mcc))\n",
    "print('Average generation time : {} sec'.format(avg_time))\n",
    "print('*'*50)"
   ]
  },
  {
   "cell_type": "code",
   "execution_count": 10,
   "metadata": {},
   "outputs": [
    {
     "name": "stdout",
     "output_type": "stream",
     "text": [
      "0.7966262606577601\n"
     ]
    }
   ],
   "source": [
    "numerator = (13+10+9)*38-(13*13)-(16*10)-(15*9)\n",
    "denominator = math.sqrt(38**2-13**2-10**2-15**2)*math.sqrt(38**2-9**2-16**2-13**2)\n",
    "mcc_test = numerator/denominator\n",
    "print(mcc_test)"
   ]
  },
  {
   "cell_type": "code",
   "execution_count": 12,
   "metadata": {},
   "outputs": [
    {
     "data": {
      "text/plain": [
       "0.47809144373375745"
      ]
     },
     "execution_count": 12,
     "metadata": {},
     "output_type": "execute_result"
    }
   ],
   "source": [
    "y_true = [1,1,1,1,1,1,1,1,0,0,0,0]\n",
    "y_pred = [0,0,1,1,1,1,1,1,0,0,0,1]\n",
    "matthews_corrcoef(y_true, y_pred)"
   ]
  },
  {
   "cell_type": "code",
   "execution_count": 18,
   "metadata": {},
   "outputs": [
    {
     "data": {
      "text/plain": [
       "0.0"
      ]
     },
     "execution_count": 18,
     "metadata": {},
     "output_type": "execute_result"
    }
   ],
   "source": [
    "#test2\n",
    "y_true = [1,1,1,2,2,2,3,3,3]\n",
    "y_pred = [1,2,3,1,2,3,1,2,3]\n",
    "matthews_corrcoef(y_true, y_pred)"
   ]
  },
  {
   "cell_type": "code",
   "execution_count": 19,
   "metadata": {},
   "outputs": [
    {
     "data": {
      "text/plain": [
       "array([[1, 1, 1],\n",
       "       [1, 1, 1],\n",
       "       [1, 1, 1]])"
      ]
     },
     "execution_count": 19,
     "metadata": {},
     "output_type": "execute_result"
    }
   ],
   "source": [
    "confusion_matrix(y_true, y_pred)"
   ]
  },
  {
   "cell_type": "code",
   "execution_count": null,
   "metadata": {},
   "outputs": [],
   "source": []
  }
 ],
 "metadata": {
  "kernelspec": {
   "display_name": "Python 3",
   "language": "python",
   "name": "python3"
  },
  "language_info": {
   "codemirror_mode": {
    "name": "ipython",
    "version": 3
   },
   "file_extension": ".py",
   "mimetype": "text/x-python",
   "name": "python",
   "nbconvert_exporter": "python",
   "pygments_lexer": "ipython3",
   "version": "3.8.6"
  }
 },
 "nbformat": 4,
 "nbformat_minor": 4
}
