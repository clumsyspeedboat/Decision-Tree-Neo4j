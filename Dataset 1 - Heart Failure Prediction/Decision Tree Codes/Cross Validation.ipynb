{
 "cells": [
  {
   "cell_type": "code",
   "execution_count": 2,
   "metadata": {},
   "outputs": [],
   "source": [
    "import pandas as pd\n",
    "import matplotlib.pyplot as plt\n",
    "from sklearn.tree import DecisionTreeClassifier\n",
    "from sklearn.metrics import confusion_matrix, accuracy_score, roc_auc_score\n",
    "from sklearn.tree import plot_tree\n",
    "from sklearn.model_selection import cross_val_score\n",
    "from timeit import default_timer as timer\n",
    "import time\n",
    "import statistics"
   ]
  },
  {
   "cell_type": "code",
   "execution_count": 1,
   "metadata": {},
   "outputs": [
    {
     "ename": "NameError",
     "evalue": "name 'pd' is not defined",
     "output_type": "error",
     "traceback": [
      "\u001b[0;31m---------------------------------------------------------------------------\u001b[0m",
      "\u001b[0;31mNameError\u001b[0m                                 Traceback (most recent call last)",
      "\u001b[0;32m<ipython-input-1-925c52f20835>\u001b[0m in \u001b[0;36m<module>\u001b[0;34m\u001b[0m\n\u001b[1;32m      1\u001b[0m \u001b[0mpath\u001b[0m \u001b[0;34m=\u001b[0m \u001b[0;34mr\"C:\\Users\\Nasim\\Desktop\\Graph-Database-Learning-Algorithms-Neo4j-\\Dataset 1 - Heart Failure Prediction\\Heart Failure Prediction.csv\"\u001b[0m\u001b[0;34m\u001b[0m\u001b[0;34m\u001b[0m\u001b[0m\n\u001b[0;32m----> 2\u001b[0;31m \u001b[0mdf\u001b[0m \u001b[0;34m=\u001b[0m \u001b[0mpd\u001b[0m\u001b[0;34m.\u001b[0m\u001b[0mread_csv\u001b[0m\u001b[0;34m(\u001b[0m\u001b[0mpath\u001b[0m\u001b[0;34m)\u001b[0m\u001b[0;34m\u001b[0m\u001b[0;34m\u001b[0m\u001b[0m\n\u001b[0m\u001b[1;32m      3\u001b[0m \u001b[0mdf\u001b[0m\u001b[0;34m.\u001b[0m\u001b[0mhead\u001b[0m\u001b[0;34m(\u001b[0m\u001b[0;34m)\u001b[0m\u001b[0;34m\u001b[0m\u001b[0;34m\u001b[0m\u001b[0m\n",
      "\u001b[0;31mNameError\u001b[0m: name 'pd' is not defined"
     ]
    }
   ],
   "source": [
    "path = r\"C:\\Users\\Nasim\\Desktop\\Graph-Database-Learning-Algorithms-Neo4j-\\Dataset 1 - Heart Failure Prediction\\Heart Failure Prediction.csv\"\n",
    "df = pd.read_csv(path)\n",
    "df.head()"
   ]
  },
  {
   "cell_type": "code",
   "execution_count": 3,
   "metadata": {},
   "outputs": [],
   "source": [
    "x = df[['age', 'anaemia', 'creatinine_phosphokinase', 'diabetes',\n",
    "       'ejection_fraction', 'high_blood_pressure', 'platelets',\n",
    "       'serum_creatinine', 'serum_sodium', 'sex', 'smoking', 'time']]\n",
    "y = df['DEATH_EVENT']"
   ]
  },
  {
   "cell_type": "code",
   "execution_count": 7,
   "metadata": {},
   "outputs": [],
   "source": [
    "# Cross Validation 20 folds : Gini\n",
    "def create_dt_gini():\n",
    "    a = timer()\n",
    "    dt1 = DecisionTreeClassifier(criterion = \"gini\")\n",
    "    scores = cross_val_score(dt1, x, y, cv=20)\n",
    "    b = timer()\n",
    "\n",
    "    delta = b - a\n",
    "    #print(\"Accuracy: \" + str(scores.mean()))\n",
    "    #print(\"Time taken to generate tree: \" + str(delta) + \" second\")\n",
    "    accuracy = str(scores.mean())\n",
    "    generation_time = str(delta)\n",
    "    return accuracy,generation_time\n",
    "             "
   ]
  },
  {
   "cell_type": "code",
   "execution_count": 8,
   "metadata": {},
   "outputs": [],
   "source": [
    "# Python program to get average of a list\n",
    "def average_list(lst):\n",
    "    return mean(lst)"
   ]
  },
  {
   "cell_type": "code",
   "execution_count": 9,
   "metadata": {},
   "outputs": [
    {
     "name": "stdout",
     "output_type": "stream",
     "text": [
      "Accuracy: 0.7376587301587301\n",
      "Average generation time : 0.06483008666666569 sec\n"
     ]
    }
   ],
   "source": [
    "accuracies = []\n",
    "times = []\n",
    "for _ in range(30):\n",
    "    acc, gtime = create_dt_gini()\n",
    "    accuracies.append(acc)\n",
    "    times.append(gtime)\n",
    "\n",
    "conveted_accuracies = [float(x) for x in accuracies]\n",
    "converted_times =  [float(x) for x in times]\n",
    "\n",
    "avg_accuracy = statistics.mean(conveted_accuracies)\n",
    "avg_time = statistics.mean(converted_times)\n",
    "\n",
    "print('Accuracy: {}'.format(avg_accuracy))\n",
    "print('Average generation time : {} sec'.format(avg_time))"
   ]
  },
  {
   "cell_type": "code",
   "execution_count": 10,
   "metadata": {},
   "outputs": [],
   "source": [
    "# Cross Validation 20 folds : Info Gain\n",
    "def create_dt_infogain():\n",
    "    a = timer()\n",
    "    dt1 = DecisionTreeClassifier(criterion = \"entropy\")\n",
    "    scores = cross_val_score(dt1, x, y, cv=20)\n",
    "    b = timer()\n",
    "\n",
    "    delta = b - a\n",
    "    #print(\"Accuracy: \" + str(scores.mean()))\n",
    "    #print(\"Time taken to generate tree: \" + str(delta) + \" second\")\n",
    "    accuracy = str(scores.mean())\n",
    "    generation_time = str(delta)\n",
    "    return accuracy,generation_time"
   ]
  },
  {
   "cell_type": "code",
   "execution_count": 11,
   "metadata": {},
   "outputs": [
    {
     "name": "stdout",
     "output_type": "stream",
     "text": [
      "Accuracy: 0.7234920634920634\n",
      "Average generation time : 0.06776777999999979 sec\n"
     ]
    }
   ],
   "source": [
    "accuracies = []\n",
    "times = []\n",
    "for _ in range(30):\n",
    "    acc, gtime = create_dt_infogain()\n",
    "    accuracies.append(acc)\n",
    "    times.append(gtime)\n",
    "\n",
    "conveted_accuracies = [float(x) for x in accuracies]\n",
    "converted_times =  [float(x) for x in times]\n",
    "\n",
    "avg_accuracy = statistics.mean(conveted_accuracies)\n",
    "avg_time = statistics.mean(converted_times)\n",
    "\n",
    "print('Accuracy: {}'.format(avg_accuracy))\n",
    "print('Average generation time : {} sec'.format(avg_time))"
   ]
  }
 ],
 "metadata": {
  "kernelspec": {
   "display_name": "Python 3",
   "language": "python",
   "name": "python3"
  },
  "language_info": {
   "codemirror_mode": {
    "name": "ipython",
    "version": 3
   },
   "file_extension": ".py",
   "mimetype": "text/x-python",
   "name": "python",
   "nbconvert_exporter": "python",
   "pygments_lexer": "ipython3",
   "version": "3.8.2"
  }
 },
 "nbformat": 4,
 "nbformat_minor": 5
}
