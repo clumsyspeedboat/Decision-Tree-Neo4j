{
 "cells": [
  {
   "cell_type": "code",
   "execution_count": 60,
   "id": "bc915a40",
   "metadata": {},
   "outputs": [],
   "source": [
    "import pandas as pd\n",
    "import matplotlib.pyplot as plt\n",
    "from sklearn.tree import DecisionTreeClassifier\n",
    "from sklearn.metrics import confusion_matrix, accuracy_score, roc_auc_score\n",
    "from sklearn.tree import plot_tree\n",
    "from sklearn.model_selection import cross_val_score\n",
    "from timeit import default_timer as timer\n",
    "import time\n",
    "import statistics"
   ]
  },
  {
   "cell_type": "code",
   "execution_count": 9,
   "id": "8e794ed2",
   "metadata": {},
   "outputs": [
    {
     "data": {
      "text/html": [
       "<div>\n",
       "<style scoped>\n",
       "    .dataframe tbody tr th:only-of-type {\n",
       "        vertical-align: middle;\n",
       "    }\n",
       "\n",
       "    .dataframe tbody tr th {\n",
       "        vertical-align: top;\n",
       "    }\n",
       "\n",
       "    .dataframe thead th {\n",
       "        text-align: right;\n",
       "    }\n",
       "</style>\n",
       "<table border=\"1\" class=\"dataframe\">\n",
       "  <thead>\n",
       "    <tr style=\"text-align: right;\">\n",
       "      <th></th>\n",
       "      <th>age</th>\n",
       "      <th>anaemia</th>\n",
       "      <th>creatinine_phosphokinase</th>\n",
       "      <th>diabetes</th>\n",
       "      <th>ejection_fraction</th>\n",
       "      <th>high_blood_pressure</th>\n",
       "      <th>platelets</th>\n",
       "      <th>serum_creatinine</th>\n",
       "      <th>serum_sodium</th>\n",
       "      <th>sex</th>\n",
       "      <th>smoking</th>\n",
       "      <th>time</th>\n",
       "      <th>DEATH_EVENT</th>\n",
       "    </tr>\n",
       "  </thead>\n",
       "  <tbody>\n",
       "    <tr>\n",
       "      <th>0</th>\n",
       "      <td>75.0</td>\n",
       "      <td>0</td>\n",
       "      <td>582</td>\n",
       "      <td>0</td>\n",
       "      <td>20</td>\n",
       "      <td>1</td>\n",
       "      <td>265000.00</td>\n",
       "      <td>1.9</td>\n",
       "      <td>130</td>\n",
       "      <td>1</td>\n",
       "      <td>0</td>\n",
       "      <td>4</td>\n",
       "      <td>1</td>\n",
       "    </tr>\n",
       "    <tr>\n",
       "      <th>1</th>\n",
       "      <td>55.0</td>\n",
       "      <td>0</td>\n",
       "      <td>7861</td>\n",
       "      <td>0</td>\n",
       "      <td>38</td>\n",
       "      <td>0</td>\n",
       "      <td>263358.03</td>\n",
       "      <td>1.1</td>\n",
       "      <td>136</td>\n",
       "      <td>1</td>\n",
       "      <td>0</td>\n",
       "      <td>6</td>\n",
       "      <td>1</td>\n",
       "    </tr>\n",
       "    <tr>\n",
       "      <th>2</th>\n",
       "      <td>65.0</td>\n",
       "      <td>0</td>\n",
       "      <td>146</td>\n",
       "      <td>0</td>\n",
       "      <td>20</td>\n",
       "      <td>0</td>\n",
       "      <td>162000.00</td>\n",
       "      <td>1.3</td>\n",
       "      <td>129</td>\n",
       "      <td>1</td>\n",
       "      <td>1</td>\n",
       "      <td>7</td>\n",
       "      <td>1</td>\n",
       "    </tr>\n",
       "    <tr>\n",
       "      <th>3</th>\n",
       "      <td>50.0</td>\n",
       "      <td>1</td>\n",
       "      <td>111</td>\n",
       "      <td>0</td>\n",
       "      <td>20</td>\n",
       "      <td>0</td>\n",
       "      <td>210000.00</td>\n",
       "      <td>1.9</td>\n",
       "      <td>137</td>\n",
       "      <td>1</td>\n",
       "      <td>0</td>\n",
       "      <td>7</td>\n",
       "      <td>1</td>\n",
       "    </tr>\n",
       "    <tr>\n",
       "      <th>4</th>\n",
       "      <td>65.0</td>\n",
       "      <td>1</td>\n",
       "      <td>160</td>\n",
       "      <td>1</td>\n",
       "      <td>20</td>\n",
       "      <td>0</td>\n",
       "      <td>327000.00</td>\n",
       "      <td>2.7</td>\n",
       "      <td>116</td>\n",
       "      <td>0</td>\n",
       "      <td>0</td>\n",
       "      <td>8</td>\n",
       "      <td>1</td>\n",
       "    </tr>\n",
       "  </tbody>\n",
       "</table>\n",
       "</div>"
      ],
      "text/plain": [
       "    age  anaemia  creatinine_phosphokinase  diabetes  ejection_fraction  \\\n",
       "0  75.0        0                       582         0                 20   \n",
       "1  55.0        0                      7861         0                 38   \n",
       "2  65.0        0                       146         0                 20   \n",
       "3  50.0        1                       111         0                 20   \n",
       "4  65.0        1                       160         1                 20   \n",
       "\n",
       "   high_blood_pressure  platelets  serum_creatinine  serum_sodium  sex  \\\n",
       "0                    1  265000.00               1.9           130    1   \n",
       "1                    0  263358.03               1.1           136    1   \n",
       "2                    0  162000.00               1.3           129    1   \n",
       "3                    0  210000.00               1.9           137    1   \n",
       "4                    0  327000.00               2.7           116    0   \n",
       "\n",
       "   smoking  time  DEATH_EVENT  \n",
       "0        0     4            1  \n",
       "1        0     6            1  \n",
       "2        1     7            1  \n",
       "3        0     7            1  \n",
       "4        0     8            1  "
      ]
     },
     "execution_count": 9,
     "metadata": {},
     "output_type": "execute_result"
    }
   ],
   "source": [
    "path = r\"C:\\Users\\Nasim\\Desktop\\Graph-Database-Learning-Algorithms-Neo4j-\\Dataset 1 - Heart Failure Prediction\\Heart Failure Prediction.csv\"\n",
    "df = pd.read_csv(path)\n",
    "df.head()"
   ]
  },
  {
   "cell_type": "code",
   "execution_count": 10,
   "id": "4e89e9a9",
   "metadata": {},
   "outputs": [],
   "source": [
    "x = df[['age', 'anaemia', 'creatinine_phosphokinase', 'diabetes',\n",
    "       'ejection_fraction', 'high_blood_pressure', 'platelets',\n",
    "       'serum_creatinine', 'serum_sodium', 'sex', 'smoking', 'time']]\n",
    "y = df['DEATH_EVENT']"
   ]
  },
  {
   "cell_type": "code",
   "execution_count": 48,
   "id": "8b398cbe",
   "metadata": {},
   "outputs": [],
   "source": [
    "# Cross Validation 10 folds : Gini\n",
    "def create_dt_gini():\n",
    "    a = timer()\n",
    "    dt1 = DecisionTreeClassifier(criterion = \"gini\")\n",
    "    scores = cross_val_score(dt1, x, y, cv=10)\n",
    "    b = timer()\n",
    "\n",
    "    delta = b - a\n",
    "    #print(\"Accuracy: \" + str(scores.mean()))\n",
    "    #print(\"Time taken to generate tree: \" + str(delta) + \" second\")\n",
    "    accuracy = str(scores.mean())\n",
    "    generation_time = str(delta)\n",
    "    return accuracy,generation_time\n",
    "             "
   ]
  },
  {
   "cell_type": "code",
   "execution_count": 57,
   "id": "d3996c81",
   "metadata": {},
   "outputs": [],
   "source": [
    "# Python program to get average of a list\n",
    "def average_list(lst):\n",
    "    return mean(lst)"
   ]
  },
  {
   "cell_type": "code",
   "execution_count": 67,
   "id": "6e703ede",
   "metadata": {},
   "outputs": [
    {
     "name": "stdout",
     "output_type": "stream",
     "text": [
      "Accuracy: 0.6895747126436782\n",
      "Average generation time : 0.032145793333317366 sec\n"
     ]
    }
   ],
   "source": [
    "accuracies = []\n",
    "times = []\n",
    "for _ in range(30):\n",
    "    acc, gtime = create_dt_gini()\n",
    "    accuracies.append(acc)\n",
    "    times.append(gtime)\n",
    "\n",
    "conveted_accuracies = [float(x) for x in accuracies]\n",
    "converted_times =  [float(x) for x in times]\n",
    "\n",
    "avg_accuracy = statistics.mean(conveted_accuracies)\n",
    "avg_time = statistics.mean(converted_times)\n",
    "\n",
    "print('Accuracy: {}'.format(avg_accuracy))\n",
    "print('Average generation time : {} sec'.format(avg_time))"
   ]
  },
  {
   "cell_type": "code",
   "execution_count": 68,
   "id": "81633bda",
   "metadata": {},
   "outputs": [],
   "source": [
    "# Cross Validation 10 folds : Info Gain\n",
    "\n",
    "def create_dt_infogain():\n",
    "    a = timer()\n",
    "    dt1 = DecisionTreeClassifier(criterion = \"entropy\")\n",
    "    scores = cross_val_score(dt1, x, y, cv=10)\n",
    "    b = timer()\n",
    "\n",
    "    delta = b - a\n",
    "    #print(\"Accuracy: \" + str(scores.mean()))\n",
    "    #print(\"Time taken to generate tree: \" + str(delta) + \" second\")\n",
    "    accuracy = str(scores.mean())\n",
    "    generation_time = str(delta)\n",
    "    return accuracy,generation_time"
   ]
  },
  {
   "cell_type": "code",
   "execution_count": 69,
   "id": "69218b8a",
   "metadata": {},
   "outputs": [
    {
     "name": "stdout",
     "output_type": "stream",
     "text": [
      "Accuracy: 0.6782988505747126\n",
      "Average generation time : 0.03384278999999424 sec\n"
     ]
    }
   ],
   "source": [
    "accuracies = []\n",
    "times = []\n",
    "for _ in range(30):\n",
    "    acc, gtime = create_dt_infogain()\n",
    "    accuracies.append(acc)\n",
    "    times.append(gtime)\n",
    "\n",
    "conveted_accuracies = [float(x) for x in accuracies]\n",
    "converted_times =  [float(x) for x in times]\n",
    "\n",
    "avg_accuracy = statistics.mean(conveted_accuracies)\n",
    "avg_time = statistics.mean(converted_times)\n",
    "\n",
    "print('Accuracy: {}'.format(avg_accuracy))\n",
    "print('Average generation time : {} sec'.format(avg_time))"
   ]
  },
  {
   "cell_type": "code",
   "execution_count": null,
   "id": "02c6c9a6",
   "metadata": {},
   "outputs": [],
   "source": []
  }
 ],
 "metadata": {
  "kernelspec": {
   "display_name": "Python 3 (ipykernel)",
   "language": "python",
   "name": "python3"
  },
  "language_info": {
   "codemirror_mode": {
    "name": "ipython",
    "version": 3
   },
   "file_extension": ".py",
   "mimetype": "text/x-python",
   "name": "python",
   "nbconvert_exporter": "python",
   "pygments_lexer": "ipython3",
   "version": "3.9.7"
  }
 },
 "nbformat": 4,
 "nbformat_minor": 5
}
