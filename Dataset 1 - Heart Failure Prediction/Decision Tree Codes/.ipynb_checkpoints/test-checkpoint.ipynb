{
 "cells": [
  {
   "cell_type": "code",
   "execution_count": 17,
   "metadata": {},
   "outputs": [],
   "source": [
    "#import datasets from sklearn library\n",
    "from sklearn import datasets\n",
    "data = datasets.load_iris()\n",
    " \n",
    "#Import decision tree classification model and cross validation\n",
    "from sklearn.tree import DecisionTreeClassifier\n",
    "from sklearn.model_selection import train_test_split, KFold\n",
    "from sklearn.metrics import accuracy_score\n",
    "from sklearn.metrics import matthews_corrcoef"
   ]
  },
  {
   "cell_type": "code",
   "execution_count": 9,
   "metadata": {},
   "outputs": [],
   "source": [
    "#Extract a holdout set at the very begining\n",
    "X_train_set, X_holdout, y_train_set, y_holdout = train_test_split(data.data, data.target, \n",
    "                                stratify = data.target, random_state = 42, test_size = .20)"
   ]
  },
  {
   "cell_type": "code",
   "execution_count": 10,
   "metadata": {},
   "outputs": [],
   "source": [
    "#Get input and output datasets values in X and Y variables\n",
    "X = X_train_set\n",
    "y = y_train_set "
   ]
  },
  {
   "cell_type": "code",
   "execution_count": 16,
   "metadata": {},
   "outputs": [
    {
     "name": "stdout",
     "output_type": "stream",
     "text": [
      "[0 1 2 0 1 2 1 2 2 2 2 1 1 1 1 0 0 2 2 0 2 0 2 0]\n",
      "\n",
      "********************\n",
      "[0 2 1 0 1 2 1 2 2 2 2 1 1 1 1 0 0 2 2 0 1 0 2 0]\n",
      "[1 2 2 0 2 0 0 1 1 0 2 2 1 1 2 2 0 1 0 2 0 0 2 0]\n",
      "\n",
      "********************\n",
      "[1 2 2 0 2 0 0 1 1 0 2 2 1 1 2 1 0 1 0 2 0 0 2 0]\n",
      "[0 0 0 1 2 1 0 2 1 2 0 2 0 1 2 0 2 1 2 1 1 2 0 0]\n",
      "\n",
      "********************\n",
      "[0 0 0 1 2 1 0 2 1 2 0 2 0 1 2 0 1 1 2 1 1 2 0 0]\n",
      "[0 1 1 1 1 2 2 1 0 2 1 0 2 0 2 1 1 0 1 2 0 0 2 2]\n",
      "\n",
      "********************\n",
      "[0 2 1 2 1 2 2 1 0 2 1 0 2 0 2 1 1 0 1 2 0 0 2 2]\n",
      "[2 1 1 0 2 1 2 2 0 1 1 1 1 1 0 2 1 1 0 0 0 0 2 0]\n",
      "\n",
      "********************\n",
      "[2 1 2 0 2 1 2 2 0 1 1 1 1 1 0 2 1 1 0 0 0 0 1 0]\n",
      "\n",
      "****************************************************************************************************\n",
      "The cross-validation scores using custom method are \n",
      "[0.96875, 0.96875, 0.9583333333333334, 0.9791666666666666, 0.96875]\n",
      "****************************************************************************************************\n"
     ]
    }
   ],
   "source": [
    "#Initialize k-fold cross validation configurations\n",
    "kf = KFold(n_splits=5)\n",
    " \n",
    "scores = []\n",
    "mcc_scores = []\n",
    "dt = DecisionTreeClassifier(criterion='gini', max_depth = 2, \\\n",
    "                        min_samples_leaf = 0.10)\n",
    "for train_index, test_index in kf.split(X):\n",
    "    #print(\"Train index: {0}, \\nTest index: {1}\".format(train_index, test_index))\n",
    "    X_train, X_test = X[train_index], X[test_index]\n",
    "    y_train, y_test = y[train_index], y[test_index]\n",
    " \n",
    "    dt.fit(X_train, y_train)\n",
    "    \n",
    "    y_pred = dt.predict(X_test)\n",
    "    \n",
    "    mcc_scores.append(matthews_corrcoef(y_test, y_pred))\n",
    "    \n",
    "    scores.append(dt.score(X_train, y_train))\n",
    "print(\"\\n\" + (\"*\" * 100))\n",
    "print(\"The cross-validation scores using custom method are \\n{0}\".format(scores))\n",
    "print(\"The mcc scores are \\n{0}\".format(mcc_scores))\n",
    "print(\"*\" * 100)"
   ]
  },
  {
   "cell_type": "code",
   "execution_count": null,
   "metadata": {},
   "outputs": [],
   "source": []
  }
 ],
 "metadata": {
  "kernelspec": {
   "display_name": "Python 3",
   "language": "python",
   "name": "python3"
  },
  "language_info": {
   "codemirror_mode": {
    "name": "ipython",
    "version": 3
   },
   "file_extension": ".py",
   "mimetype": "text/x-python",
   "name": "python",
   "nbconvert_exporter": "python",
   "pygments_lexer": "ipython3",
   "version": "3.8.2"
  }
 },
 "nbformat": 4,
 "nbformat_minor": 4
}
