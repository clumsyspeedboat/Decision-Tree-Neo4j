{
 "cells": [
  {
   "cell_type": "code",
   "execution_count": 49,
   "metadata": {},
   "outputs": [],
   "source": [
    "import pandas as pd\n",
    "import matplotlib.pyplot as plt\n",
    "from sklearn.tree import DecisionTreeClassifier\n",
    "from sklearn.metrics import confusion_matrix, accuracy_score, roc_auc_score\n",
    "from sklearn.tree import plot_tree\n",
    "from sklearn.model_selection import cross_val_score, KFold\n",
    "from timeit import default_timer as timer\n",
    "import time\n",
    "from statistics import *\n",
    "from sklearn.metrics import matthews_corrcoef\n",
    "import warnings\n",
    "import math\n",
    "warnings.filterwarnings('ignore')\n",
    "import numpy as np\n",
    "import statistics"
   ]
  },
  {
   "cell_type": "code",
   "execution_count": 50,
   "metadata": {},
   "outputs": [
    {
     "data": {
      "text/html": [
       "<div>\n",
       "<style scoped>\n",
       "    .dataframe tbody tr th:only-of-type {\n",
       "        vertical-align: middle;\n",
       "    }\n",
       "\n",
       "    .dataframe tbody tr th {\n",
       "        vertical-align: top;\n",
       "    }\n",
       "\n",
       "    .dataframe thead th {\n",
       "        text-align: right;\n",
       "    }\n",
       "</style>\n",
       "<table border=\"1\" class=\"dataframe\">\n",
       "  <thead>\n",
       "    <tr style=\"text-align: right;\">\n",
       "      <th></th>\n",
       "      <th>Age</th>\n",
       "      <th>Temperature</th>\n",
       "      <th>Sex</th>\n",
       "      <th>Diarrhea</th>\n",
       "      <th>Fever</th>\n",
       "      <th>Coughing</th>\n",
       "      <th>ShortnessOfBreath</th>\n",
       "      <th>SoreThroat</th>\n",
       "      <th>NauseaVomitting</th>\n",
       "      <th>Fatigue</th>\n",
       "      <th>Cancer</th>\n",
       "      <th>Diagnosis</th>\n",
       "    </tr>\n",
       "  </thead>\n",
       "  <tbody>\n",
       "    <tr>\n",
       "      <th>0</th>\n",
       "      <td>67.0</td>\n",
       "      <td>38.11</td>\n",
       "      <td>F</td>\n",
       "      <td>unknown</td>\n",
       "      <td>Yes</td>\n",
       "      <td>Yes</td>\n",
       "      <td>unknown</td>\n",
       "      <td>No</td>\n",
       "      <td>unknown</td>\n",
       "      <td>No</td>\n",
       "      <td>unknown</td>\n",
       "      <td>H1N1</td>\n",
       "    </tr>\n",
       "    <tr>\n",
       "      <th>1</th>\n",
       "      <td>29.0</td>\n",
       "      <td>0.00</td>\n",
       "      <td>M</td>\n",
       "      <td>unknown</td>\n",
       "      <td>unknown</td>\n",
       "      <td>unknown</td>\n",
       "      <td>unknown</td>\n",
       "      <td>unknown</td>\n",
       "      <td>unknown</td>\n",
       "      <td>unknown</td>\n",
       "      <td>unknown</td>\n",
       "      <td>H1N1</td>\n",
       "    </tr>\n",
       "    <tr>\n",
       "      <th>2</th>\n",
       "      <td>22.0</td>\n",
       "      <td>0.00</td>\n",
       "      <td>F</td>\n",
       "      <td>unknown</td>\n",
       "      <td>unknown</td>\n",
       "      <td>unknown</td>\n",
       "      <td>unknown</td>\n",
       "      <td>unknown</td>\n",
       "      <td>unknown</td>\n",
       "      <td>unknown</td>\n",
       "      <td>unknown</td>\n",
       "      <td>H1N1</td>\n",
       "    </tr>\n",
       "    <tr>\n",
       "      <th>3</th>\n",
       "      <td>20.0</td>\n",
       "      <td>36.56</td>\n",
       "      <td>F</td>\n",
       "      <td>unknown</td>\n",
       "      <td>Yes</td>\n",
       "      <td>Yes</td>\n",
       "      <td>unknown</td>\n",
       "      <td>No</td>\n",
       "      <td>unknown</td>\n",
       "      <td>Yes</td>\n",
       "      <td>unknown</td>\n",
       "      <td>H1N1</td>\n",
       "    </tr>\n",
       "    <tr>\n",
       "      <th>4</th>\n",
       "      <td>21.0</td>\n",
       "      <td>0.00</td>\n",
       "      <td>M</td>\n",
       "      <td>unknown</td>\n",
       "      <td>unknown</td>\n",
       "      <td>unknown</td>\n",
       "      <td>unknown</td>\n",
       "      <td>unknown</td>\n",
       "      <td>unknown</td>\n",
       "      <td>unknown</td>\n",
       "      <td>unknown</td>\n",
       "      <td>H1N1</td>\n",
       "    </tr>\n",
       "  </tbody>\n",
       "</table>\n",
       "</div>"
      ],
      "text/plain": [
       "    Age  Temperature Sex Diarrhea    Fever Coughing ShortnessOfBreath  \\\n",
       "0  67.0        38.11   F  unknown      Yes      Yes           unknown   \n",
       "1  29.0         0.00   M  unknown  unknown  unknown           unknown   \n",
       "2  22.0         0.00   F  unknown  unknown  unknown           unknown   \n",
       "3  20.0        36.56   F  unknown      Yes      Yes           unknown   \n",
       "4  21.0         0.00   M  unknown  unknown  unknown           unknown   \n",
       "\n",
       "  SoreThroat NauseaVomitting  Fatigue   Cancer Diagnosis  \n",
       "0         No         unknown       No  unknown      H1N1  \n",
       "1    unknown         unknown  unknown  unknown      H1N1  \n",
       "2    unknown         unknown  unknown  unknown      H1N1  \n",
       "3         No         unknown      Yes  unknown      H1N1  \n",
       "4    unknown         unknown  unknown  unknown      H1N1  "
      ]
     },
     "execution_count": 50,
     "metadata": {},
     "output_type": "execute_result"
    }
   ],
   "source": [
    "path = r\"/Users/nasim/Desktop/data/Flu_Classification.csv\"\n",
    "df = pd.read_csv(path)\n",
    "df.head()"
   ]
  },
  {
   "cell_type": "code",
   "execution_count": 51,
   "metadata": {},
   "outputs": [],
   "source": [
    "df = df.astype(str)"
   ]
  },
  {
   "cell_type": "code",
   "execution_count": 52,
   "metadata": {},
   "outputs": [],
   "source": [
    "df.Diagnosis = df.Diagnosis.astype(\"category\").cat.codes\n",
    "df.Sex = df.Sex.astype(\"category\").cat.codes\n",
    "df.Diarrhea = df.Diarrhea.astype(\"category\").cat.codes\n",
    "df.Fever = df.Fever.astype(\"category\").cat.codes\n",
    "df.Coughing = df.Coughing.astype(\"category\").cat.codes\n",
    "df.ShortnessOfBreath = df.ShortnessOfBreath.astype(\"category\").cat.codes\n",
    "df.SoreThroat = df.SoreThroat.astype(\"category\").cat.codes\n",
    "df.NauseaVomitting = df.NauseaVomitting.astype(\"category\").cat.codes\n",
    "df.Fatigue = df.Fatigue.astype(\"category\").cat.codes\n",
    "df.Cancer = df.Cancer.astype(\"category\").cat.codes"
   ]
  },
  {
   "cell_type": "code",
   "execution_count": 53,
   "metadata": {},
   "outputs": [
    {
     "data": {
      "text/plain": [
       "Age                  object\n",
       "Temperature          object\n",
       "Sex                    int8\n",
       "Diarrhea               int8\n",
       "Fever                  int8\n",
       "Coughing               int8\n",
       "ShortnessOfBreath      int8\n",
       "SoreThroat             int8\n",
       "NauseaVomitting        int8\n",
       "Fatigue                int8\n",
       "Cancer                 int8\n",
       "Diagnosis              int8\n",
       "dtype: object"
      ]
     },
     "execution_count": 53,
     "metadata": {},
     "output_type": "execute_result"
    }
   ],
   "source": [
    "df.dtypes"
   ]
  },
  {
   "cell_type": "code",
   "execution_count": 54,
   "metadata": {},
   "outputs": [],
   "source": [
    "X = df[[\"Age\", \"Temperature\", \"Sex\", \"Diarrhea\", \"Fever\", \"Coughing\", \"ShortnessOfBreath\", \"SoreThroat\", \"NauseaVomitting\", \"Fatigue\", \"Cancer\"]]\n",
    "y = df['Diagnosis']"
   ]
  },
  {
   "cell_type": "code",
   "execution_count": 55,
   "metadata": {},
   "outputs": [],
   "source": [
    "# Python program to get average of a list\n",
    "def average_list(lst):\n",
    "    return mean(lst)"
   ]
  },
  {
   "cell_type": "code",
   "execution_count": 56,
   "metadata": {},
   "outputs": [],
   "source": [
    "def create_dt_gini(criter='gini'):\n",
    "    a = timer()\n",
    "    \n",
    "    kf = KFold(n_splits=20)\n",
    "    scores = []\n",
    "    mcc_scores = []\n",
    "    \n",
    "    dt = DecisionTreeClassifier(criterion=criter)\n",
    "    \n",
    "    for train_index, test_index in kf.split(X):\n",
    "        #print(\"Train index: {0}, \\nTest index: {1}\".format(train_index, test_index))\n",
    "        X_train, X_test = X.iloc[train_index], X.iloc[test_index]\n",
    "        y_train, y_test = y.iloc[train_index], y.iloc[test_index]\n",
    "\n",
    "        dt.fit(X_train, y_train)\n",
    "        \n",
    "        y_pred = dt.predict(X_test)\n",
    "        \n",
    "        mcc_scores.append(matthews_corrcoef(y_test, y_pred))\n",
    "        \n",
    "        scores.append(dt.score(X_test, y_test))\n",
    "        \n",
    "    b = timer()\n",
    "    \n",
    "\n",
    "    delta = b - a\n",
    "    \n",
    "    accuracy = str(np.mean(scores))\n",
    "    generation_time = str(delta)\n",
    "    mcc_avg = average_list(mcc_scores)\n",
    "    return accuracy,generation_time, mcc_avg"
   ]
  },
  {
   "cell_type": "code",
   "execution_count": 57,
   "metadata": {},
   "outputs": [
    {
     "name": "stdout",
     "output_type": "stream",
     "text": [
      "**************************************************\n",
      "Evaluating for Gini Index\n",
      "Accuracy: 86.27438438438439\n",
      "Mcc: 0.0318246069611921\n",
      "Average generation time : 0.21288455336667386 sec\n",
      "**************************************************\n"
     ]
    }
   ],
   "source": [
    "accuracies = []\n",
    "times = []\n",
    "mccs = []\n",
    "for _ in range(30):\n",
    "    acc, gtime, mcc_avg = create_dt_gini(criter='gini')\n",
    "    accuracies.append(acc)\n",
    "    times.append(gtime)\n",
    "    mccs.append(mcc_avg)\n",
    "\n",
    "    \n",
    "conveted_accuracies = [float(x) for x in accuracies]\n",
    "converted_times =  [float(x) for x in times]\n",
    "converted_mccs = [float(x) for x in mccs]\n",
    "\n",
    "avg_accuracy = average_list(conveted_accuracies)\n",
    "avg_time = average_list(converted_times)\n",
    "avg_mcc = average_list(converted_mccs)\n",
    "\n",
    "print('*'*50)\n",
    "print('Evaluating for Gini Index')\n",
    "print('Accuracy: {}'.format(avg_accuracy*100))\n",
    "print('Mcc: {}'.format(avg_mcc))\n",
    "print('Average generation time : {} sec'.format(avg_time))\n",
    "print('*'*50)"
   ]
  },
  {
   "cell_type": "code",
   "execution_count": 58,
   "metadata": {},
   "outputs": [
    {
     "name": "stdout",
     "output_type": "stream",
     "text": [
      "**************************************************\n",
      "Evaluating for information gain\n",
      "Accuracy: 86.40984984984983\n",
      "Mcc: 0.031040048245806594\n",
      "Average generation time : 0.2417791695999919 sec\n",
      "**************************************************\n"
     ]
    }
   ],
   "source": [
    "accuracies = []\n",
    "times = []\n",
    "mccs = []\n",
    "for _ in range(30):\n",
    "    acc, gtime, mcc_avg = create_dt_gini(criter='entropy')\n",
    "    accuracies.append(acc)\n",
    "    times.append(gtime)\n",
    "    mccs.append(mcc_avg)\n",
    "\n",
    "    \n",
    "conveted_accuracies = [float(x) for x in accuracies]\n",
    "converted_times =  [float(x) for x in times]\n",
    "converted_mccs = [float(x) for x in mccs]\n",
    "\n",
    "avg_accuracy = average_list(conveted_accuracies)\n",
    "avg_time = average_list(converted_times)\n",
    "avg_mcc = average_list(converted_mccs)\n",
    "\n",
    "print('*'*50)\n",
    "print('Evaluating for information gain')\n",
    "print('Accuracy: {}'.format(avg_accuracy*100))\n",
    "print('Mcc: {}'.format(avg_mcc))\n",
    "print('Average generation time : {} sec'.format(avg_time))\n",
    "print('*'*50)"
   ]
  }
 ],
 "metadata": {
  "kernelspec": {
   "display_name": "Python 3",
   "language": "python",
   "name": "python3"
  },
  "language_info": {
   "codemirror_mode": {
    "name": "ipython",
    "version": 3
   },
   "file_extension": ".py",
   "mimetype": "text/x-python",
   "name": "python",
   "nbconvert_exporter": "python",
   "pygments_lexer": "ipython3",
   "version": "3.8.2"
  }
 },
 "nbformat": 4,
 "nbformat_minor": 4
}
