{
 "cells": [
  {
   "cell_type": "code",
   "execution_count": 1,
   "metadata": {
    "_cell_guid": "b1076dfc-b9ad-4769-8c92-a6c4dae69d19",
    "_uuid": "8f2839f25d086af736a60e9eeb907d3b93b6e0e5",
    "execution": {
     "iopub.execute_input": "2021-07-27T18:49:01.578613Z",
     "iopub.status.busy": "2021-07-27T18:49:01.577932Z",
     "iopub.status.idle": "2021-07-27T18:49:03.990654Z",
     "shell.execute_reply": "2021-07-27T18:49:03.989624Z",
     "shell.execute_reply.started": "2021-07-27T18:49:01.578522Z"
    }
   },
   "outputs": [
    {
     "name": "stderr",
     "output_type": "stream",
     "text": [
      "c:\\users\\49171\\appdata\\local\\programs\\python\\python38\\lib\\site-packages\\numpy\\_distributor_init.py:30: UserWarning: loaded more than 1 DLL from .libs:\n",
      "c:\\users\\49171\\appdata\\local\\programs\\python\\python38\\lib\\site-packages\\numpy\\.libs\\libopenblas.GK7GX5KEQ4F6UYO3P26ULGBQYHGQO7J4.gfortran-win_amd64.dll\n",
      "c:\\users\\49171\\appdata\\local\\programs\\python\\python38\\lib\\site-packages\\numpy\\.libs\\libopenblas.WCDJNK7YVMPZQ2ME2ZZHJJRJ3JIKNDB7.gfortran-win_amd64.dll\n",
      "  warnings.warn(\"loaded more than 1 DLL from .libs:\"\n"
     ]
    }
   ],
   "source": [
    "import plotly\n",
    "import plotly.graph_objs as go\n",
    "import plotly.express as px\n",
    "import pandas as pd\n",
    "import numpy as np\n",
    "import matplotlib.pyplot as plt\n",
    "import seaborn as sns\n",
    "import warnings\n",
    "import datetime\n",
    "import pickle\n",
    "from sklearn.model_selection import train_test_split"
   ]
  },
  {
   "cell_type": "code",
   "execution_count": 2,
   "metadata": {
    "execution": {
     "iopub.execute_input": "2021-07-27T18:49:03.992452Z",
     "iopub.status.busy": "2021-07-27T18:49:03.992154Z",
     "iopub.status.idle": "2021-07-27T18:49:04.064228Z",
     "shell.execute_reply": "2021-07-27T18:49:04.063246Z",
     "shell.execute_reply.started": "2021-07-27T18:49:03.992421Z"
    }
   },
   "outputs": [
    {
     "ename": "FileNotFoundError",
     "evalue": "[Errno 2] No such file or directory: '../input/flu-classification/Flu Classification.csv'",
     "output_type": "error",
     "traceback": [
      "\u001b[1;31m---------------------------------------------------------------------------\u001b[0m",
      "\u001b[1;31mFileNotFoundError\u001b[0m                         Traceback (most recent call last)",
      "\u001b[1;32m<ipython-input-2-d27896f52373>\u001b[0m in \u001b[0;36m<module>\u001b[1;34m\u001b[0m\n\u001b[0;32m      1\u001b[0m \u001b[0mpath\u001b[0m \u001b[1;33m=\u001b[0m \u001b[1;34mr\"../input/flu-classification/Flu Classification.csv\"\u001b[0m\u001b[1;33m\u001b[0m\u001b[1;33m\u001b[0m\u001b[0m\n\u001b[1;32m----> 2\u001b[1;33m \u001b[0mdf\u001b[0m \u001b[1;33m=\u001b[0m \u001b[0mpd\u001b[0m\u001b[1;33m.\u001b[0m\u001b[0mread_csv\u001b[0m\u001b[1;33m(\u001b[0m\u001b[0mpath\u001b[0m\u001b[1;33m)\u001b[0m\u001b[1;33m\u001b[0m\u001b[1;33m\u001b[0m\u001b[0m\n\u001b[0m\u001b[0;32m      3\u001b[0m \u001b[0mdf\u001b[0m\u001b[1;33m.\u001b[0m\u001b[0mhead\u001b[0m\u001b[1;33m(\u001b[0m\u001b[1;36m10\u001b[0m\u001b[1;33m)\u001b[0m\u001b[1;33m\u001b[0m\u001b[1;33m\u001b[0m\u001b[0m\n",
      "\u001b[1;32m~\\AppData\\Roaming\\Python\\Python38\\site-packages\\pandas\\io\\parsers.py\u001b[0m in \u001b[0;36mread_csv\u001b[1;34m(filepath_or_buffer, sep, delimiter, header, names, index_col, usecols, squeeze, prefix, mangle_dupe_cols, dtype, engine, converters, true_values, false_values, skipinitialspace, skiprows, skipfooter, nrows, na_values, keep_default_na, na_filter, verbose, skip_blank_lines, parse_dates, infer_datetime_format, keep_date_col, date_parser, dayfirst, cache_dates, iterator, chunksize, compression, thousands, decimal, lineterminator, quotechar, quoting, doublequote, escapechar, comment, encoding, dialect, error_bad_lines, warn_bad_lines, delim_whitespace, low_memory, memory_map, float_precision, storage_options)\u001b[0m\n\u001b[0;32m    608\u001b[0m     \u001b[0mkwds\u001b[0m\u001b[1;33m.\u001b[0m\u001b[0mupdate\u001b[0m\u001b[1;33m(\u001b[0m\u001b[0mkwds_defaults\u001b[0m\u001b[1;33m)\u001b[0m\u001b[1;33m\u001b[0m\u001b[1;33m\u001b[0m\u001b[0m\n\u001b[0;32m    609\u001b[0m \u001b[1;33m\u001b[0m\u001b[0m\n\u001b[1;32m--> 610\u001b[1;33m     \u001b[1;32mreturn\u001b[0m \u001b[0m_read\u001b[0m\u001b[1;33m(\u001b[0m\u001b[0mfilepath_or_buffer\u001b[0m\u001b[1;33m,\u001b[0m \u001b[0mkwds\u001b[0m\u001b[1;33m)\u001b[0m\u001b[1;33m\u001b[0m\u001b[1;33m\u001b[0m\u001b[0m\n\u001b[0m\u001b[0;32m    611\u001b[0m \u001b[1;33m\u001b[0m\u001b[0m\n\u001b[0;32m    612\u001b[0m \u001b[1;33m\u001b[0m\u001b[0m\n",
      "\u001b[1;32m~\\AppData\\Roaming\\Python\\Python38\\site-packages\\pandas\\io\\parsers.py\u001b[0m in \u001b[0;36m_read\u001b[1;34m(filepath_or_buffer, kwds)\u001b[0m\n\u001b[0;32m    460\u001b[0m \u001b[1;33m\u001b[0m\u001b[0m\n\u001b[0;32m    461\u001b[0m     \u001b[1;31m# Create the parser.\u001b[0m\u001b[1;33m\u001b[0m\u001b[1;33m\u001b[0m\u001b[1;33m\u001b[0m\u001b[0m\n\u001b[1;32m--> 462\u001b[1;33m     \u001b[0mparser\u001b[0m \u001b[1;33m=\u001b[0m \u001b[0mTextFileReader\u001b[0m\u001b[1;33m(\u001b[0m\u001b[0mfilepath_or_buffer\u001b[0m\u001b[1;33m,\u001b[0m \u001b[1;33m**\u001b[0m\u001b[0mkwds\u001b[0m\u001b[1;33m)\u001b[0m\u001b[1;33m\u001b[0m\u001b[1;33m\u001b[0m\u001b[0m\n\u001b[0m\u001b[0;32m    463\u001b[0m \u001b[1;33m\u001b[0m\u001b[0m\n\u001b[0;32m    464\u001b[0m     \u001b[1;32mif\u001b[0m \u001b[0mchunksize\u001b[0m \u001b[1;32mor\u001b[0m \u001b[0miterator\u001b[0m\u001b[1;33m:\u001b[0m\u001b[1;33m\u001b[0m\u001b[1;33m\u001b[0m\u001b[0m\n",
      "\u001b[1;32m~\\AppData\\Roaming\\Python\\Python38\\site-packages\\pandas\\io\\parsers.py\u001b[0m in \u001b[0;36m__init__\u001b[1;34m(self, f, engine, **kwds)\u001b[0m\n\u001b[0;32m    817\u001b[0m             \u001b[0mself\u001b[0m\u001b[1;33m.\u001b[0m\u001b[0moptions\u001b[0m\u001b[1;33m[\u001b[0m\u001b[1;34m\"has_index_names\"\u001b[0m\u001b[1;33m]\u001b[0m \u001b[1;33m=\u001b[0m \u001b[0mkwds\u001b[0m\u001b[1;33m[\u001b[0m\u001b[1;34m\"has_index_names\"\u001b[0m\u001b[1;33m]\u001b[0m\u001b[1;33m\u001b[0m\u001b[1;33m\u001b[0m\u001b[0m\n\u001b[0;32m    818\u001b[0m \u001b[1;33m\u001b[0m\u001b[0m\n\u001b[1;32m--> 819\u001b[1;33m         \u001b[0mself\u001b[0m\u001b[1;33m.\u001b[0m\u001b[0m_engine\u001b[0m \u001b[1;33m=\u001b[0m \u001b[0mself\u001b[0m\u001b[1;33m.\u001b[0m\u001b[0m_make_engine\u001b[0m\u001b[1;33m(\u001b[0m\u001b[0mself\u001b[0m\u001b[1;33m.\u001b[0m\u001b[0mengine\u001b[0m\u001b[1;33m)\u001b[0m\u001b[1;33m\u001b[0m\u001b[1;33m\u001b[0m\u001b[0m\n\u001b[0m\u001b[0;32m    820\u001b[0m \u001b[1;33m\u001b[0m\u001b[0m\n\u001b[0;32m    821\u001b[0m     \u001b[1;32mdef\u001b[0m \u001b[0mclose\u001b[0m\u001b[1;33m(\u001b[0m\u001b[0mself\u001b[0m\u001b[1;33m)\u001b[0m\u001b[1;33m:\u001b[0m\u001b[1;33m\u001b[0m\u001b[1;33m\u001b[0m\u001b[0m\n",
      "\u001b[1;32m~\\AppData\\Roaming\\Python\\Python38\\site-packages\\pandas\\io\\parsers.py\u001b[0m in \u001b[0;36m_make_engine\u001b[1;34m(self, engine)\u001b[0m\n\u001b[0;32m   1048\u001b[0m             )\n\u001b[0;32m   1049\u001b[0m         \u001b[1;31m# error: Too many arguments for \"ParserBase\"\u001b[0m\u001b[1;33m\u001b[0m\u001b[1;33m\u001b[0m\u001b[1;33m\u001b[0m\u001b[0m\n\u001b[1;32m-> 1050\u001b[1;33m         \u001b[1;32mreturn\u001b[0m \u001b[0mmapping\u001b[0m\u001b[1;33m[\u001b[0m\u001b[0mengine\u001b[0m\u001b[1;33m]\u001b[0m\u001b[1;33m(\u001b[0m\u001b[0mself\u001b[0m\u001b[1;33m.\u001b[0m\u001b[0mf\u001b[0m\u001b[1;33m,\u001b[0m \u001b[1;33m**\u001b[0m\u001b[0mself\u001b[0m\u001b[1;33m.\u001b[0m\u001b[0moptions\u001b[0m\u001b[1;33m)\u001b[0m  \u001b[1;31m# type: ignore[call-arg]\u001b[0m\u001b[1;33m\u001b[0m\u001b[1;33m\u001b[0m\u001b[0m\n\u001b[0m\u001b[0;32m   1051\u001b[0m \u001b[1;33m\u001b[0m\u001b[0m\n\u001b[0;32m   1052\u001b[0m     \u001b[1;32mdef\u001b[0m \u001b[0m_failover_to_python\u001b[0m\u001b[1;33m(\u001b[0m\u001b[0mself\u001b[0m\u001b[1;33m)\u001b[0m\u001b[1;33m:\u001b[0m\u001b[1;33m\u001b[0m\u001b[1;33m\u001b[0m\u001b[0m\n",
      "\u001b[1;32m~\\AppData\\Roaming\\Python\\Python38\\site-packages\\pandas\\io\\parsers.py\u001b[0m in \u001b[0;36m__init__\u001b[1;34m(self, src, **kwds)\u001b[0m\n\u001b[0;32m   1865\u001b[0m \u001b[1;33m\u001b[0m\u001b[0m\n\u001b[0;32m   1866\u001b[0m         \u001b[1;31m# open handles\u001b[0m\u001b[1;33m\u001b[0m\u001b[1;33m\u001b[0m\u001b[1;33m\u001b[0m\u001b[0m\n\u001b[1;32m-> 1867\u001b[1;33m         \u001b[0mself\u001b[0m\u001b[1;33m.\u001b[0m\u001b[0m_open_handles\u001b[0m\u001b[1;33m(\u001b[0m\u001b[0msrc\u001b[0m\u001b[1;33m,\u001b[0m \u001b[0mkwds\u001b[0m\u001b[1;33m)\u001b[0m\u001b[1;33m\u001b[0m\u001b[1;33m\u001b[0m\u001b[0m\n\u001b[0m\u001b[0;32m   1868\u001b[0m         \u001b[1;32massert\u001b[0m \u001b[0mself\u001b[0m\u001b[1;33m.\u001b[0m\u001b[0mhandles\u001b[0m \u001b[1;32mis\u001b[0m \u001b[1;32mnot\u001b[0m \u001b[1;32mNone\u001b[0m\u001b[1;33m\u001b[0m\u001b[1;33m\u001b[0m\u001b[0m\n\u001b[0;32m   1869\u001b[0m         \u001b[1;32mfor\u001b[0m \u001b[0mkey\u001b[0m \u001b[1;32min\u001b[0m \u001b[1;33m(\u001b[0m\u001b[1;34m\"storage_options\"\u001b[0m\u001b[1;33m,\u001b[0m \u001b[1;34m\"encoding\"\u001b[0m\u001b[1;33m,\u001b[0m \u001b[1;34m\"memory_map\"\u001b[0m\u001b[1;33m,\u001b[0m \u001b[1;34m\"compression\"\u001b[0m\u001b[1;33m)\u001b[0m\u001b[1;33m:\u001b[0m\u001b[1;33m\u001b[0m\u001b[1;33m\u001b[0m\u001b[0m\n",
      "\u001b[1;32m~\\AppData\\Roaming\\Python\\Python38\\site-packages\\pandas\\io\\parsers.py\u001b[0m in \u001b[0;36m_open_handles\u001b[1;34m(self, src, kwds)\u001b[0m\n\u001b[0;32m   1360\u001b[0m         \u001b[0mLet\u001b[0m \u001b[0mthe\u001b[0m \u001b[0mreaders\u001b[0m \u001b[0mopen\u001b[0m \u001b[0mIOHanldes\u001b[0m \u001b[0mafter\u001b[0m \u001b[0mthey\u001b[0m \u001b[0mare\u001b[0m \u001b[0mdone\u001b[0m \u001b[1;32mwith\u001b[0m \u001b[0mtheir\u001b[0m \u001b[0mpotential\u001b[0m \u001b[0mraises\u001b[0m\u001b[1;33m.\u001b[0m\u001b[1;33m\u001b[0m\u001b[1;33m\u001b[0m\u001b[0m\n\u001b[0;32m   1361\u001b[0m         \"\"\"\n\u001b[1;32m-> 1362\u001b[1;33m         self.handles = get_handle(\n\u001b[0m\u001b[0;32m   1363\u001b[0m             \u001b[0msrc\u001b[0m\u001b[1;33m,\u001b[0m\u001b[1;33m\u001b[0m\u001b[1;33m\u001b[0m\u001b[0m\n\u001b[0;32m   1364\u001b[0m             \u001b[1;34m\"r\"\u001b[0m\u001b[1;33m,\u001b[0m\u001b[1;33m\u001b[0m\u001b[1;33m\u001b[0m\u001b[0m\n",
      "\u001b[1;32m~\\AppData\\Roaming\\Python\\Python38\\site-packages\\pandas\\io\\common.py\u001b[0m in \u001b[0;36mget_handle\u001b[1;34m(path_or_buf, mode, encoding, compression, memory_map, is_text, errors, storage_options)\u001b[0m\n\u001b[0;32m    640\u001b[0m                 \u001b[0merrors\u001b[0m \u001b[1;33m=\u001b[0m \u001b[1;34m\"replace\"\u001b[0m\u001b[1;33m\u001b[0m\u001b[1;33m\u001b[0m\u001b[0m\n\u001b[0;32m    641\u001b[0m             \u001b[1;31m# Encoding\u001b[0m\u001b[1;33m\u001b[0m\u001b[1;33m\u001b[0m\u001b[1;33m\u001b[0m\u001b[0m\n\u001b[1;32m--> 642\u001b[1;33m             handle = open(\n\u001b[0m\u001b[0;32m    643\u001b[0m                 \u001b[0mhandle\u001b[0m\u001b[1;33m,\u001b[0m\u001b[1;33m\u001b[0m\u001b[1;33m\u001b[0m\u001b[0m\n\u001b[0;32m    644\u001b[0m                 \u001b[0mioargs\u001b[0m\u001b[1;33m.\u001b[0m\u001b[0mmode\u001b[0m\u001b[1;33m,\u001b[0m\u001b[1;33m\u001b[0m\u001b[1;33m\u001b[0m\u001b[0m\n",
      "\u001b[1;31mFileNotFoundError\u001b[0m: [Errno 2] No such file or directory: '../input/flu-classification/Flu Classification.csv'"
     ]
    }
   ],
   "source": [
    "path = r\"C:\\Users\\49171\\Desktop\\GitHub\\Graph-Database-Learning-Algorithms-Neo4j\\Dataset 3 - Flu Classification\\Flu Classification.csv\"\n",
    "df = pd.read_csv(path)\n",
    "df.head(10)"
   ]
  },
  {
   "cell_type": "code",
   "execution_count": null,
   "metadata": {
    "execution": {
     "iopub.execute_input": "2021-07-27T18:49:04.066305Z",
     "iopub.status.busy": "2021-07-27T18:49:04.066022Z",
     "iopub.status.idle": "2021-07-27T18:49:04.089773Z",
     "shell.execute_reply": "2021-07-27T18:49:04.088538Z",
     "shell.execute_reply.started": "2021-07-27T18:49:04.066277Z"
    }
   },
   "outputs": [],
   "source": [
    "df = df.iloc[0:1484,[0,2,3,25,31,32,33,34,35,36,41,46,49]]\n",
    "df.head(10)"
   ]
  },
  {
   "cell_type": "code",
   "execution_count": null,
   "metadata": {
    "execution": {
     "iopub.execute_input": "2021-07-27T18:49:04.091908Z",
     "iopub.status.busy": "2021-07-27T18:49:04.091629Z",
     "iopub.status.idle": "2021-07-27T18:49:04.125307Z",
     "shell.execute_reply": "2021-07-27T18:49:04.124190Z",
     "shell.execute_reply.started": "2021-07-27T18:49:04.091880Z"
    }
   },
   "outputs": [],
   "source": [
    "df[\"Age\"].fillna(0, inplace = True)\n",
    "df[\"Temperature\"].fillna(0, inplace = True)\n",
    "df[\"Sex\"].fillna(\"unknown\", inplace = True)\n",
    "df[\"RiskFactors\"].fillna(\"unknown\", inplace = True)\n",
    "df[\"Diarrhea\"].fillna(\"unknown\", inplace = True)\n",
    "df[\"Fever\"].fillna(\"unknown\", inplace = True)\n",
    "df[\"ShortnessOfBreath\"].fillna(\"unknown\", inplace = True)\n",
    "df[\"SoreThroat\"].fillna(\"unknown\", inplace = True)\n",
    "df[\"NauseaVomitting\"].fillna(\"unknown\", inplace = True)\n",
    "df[\"Fatigue\"].fillna(\"unknown\", inplace = True)\n",
    "df[\"Cancer\"].fillna(\"unknown\", inplace = True)\n",
    "df[\"Coughing\"].fillna(\"unknown\", inplace = True)\n",
    "df.head(10)"
   ]
  },
  {
   "cell_type": "code",
   "execution_count": null,
   "metadata": {
    "execution": {
     "iopub.execute_input": "2021-07-27T18:49:04.127367Z",
     "iopub.status.busy": "2021-07-27T18:49:04.126932Z",
     "iopub.status.idle": "2021-07-27T18:49:04.168902Z",
     "shell.execute_reply": "2021-07-27T18:49:04.167975Z",
     "shell.execute_reply.started": "2021-07-27T18:49:04.127319Z"
    }
   },
   "outputs": [],
   "source": [
    "df.Diagnosis = df.Diagnosis.astype(\"category\").cat.codes\n",
    "df.Sex = df.Sex.astype(\"category\").cat.codes\n",
    "df.RiskFactors = df.RiskFactors.astype(\"category\").cat.codes\n",
    "df.Diarrhea = df.Diarrhea.astype(\"category\").cat.codes\n",
    "df.Fever = df.Fever.astype(\"category\").cat.codes\n",
    "df.Coughing = df.Coughing.astype(\"category\").cat.codes\n",
    "df.ShortnessOfBreath = df.ShortnessOfBreath.astype(\"category\").cat.codes\n",
    "df.SoreThroat = df.SoreThroat.astype(\"category\").cat.codes\n",
    "df.NauseaVomitting = df.NauseaVomitting.astype(\"category\").cat.codes\n",
    "df.Fatigue = df.Fatigue.astype(\"category\").cat.codes\n",
    "df.Cancer = df.Cancer.astype(\"category\").cat.codes\n",
    "df.head()"
   ]
  },
  {
   "cell_type": "code",
   "execution_count": null,
   "metadata": {
    "execution": {
     "iopub.execute_input": "2021-07-27T18:49:04.170441Z",
     "iopub.status.busy": "2021-07-27T18:49:04.170140Z",
     "iopub.status.idle": "2021-07-27T18:49:04.343501Z",
     "shell.execute_reply": "2021-07-27T18:49:04.342734Z",
     "shell.execute_reply.started": "2021-07-27T18:49:04.170411Z"
    }
   },
   "outputs": [],
   "source": [
    "plt.figure(figsize=(10,8))\n",
    "ax=sns.countplot(df['Diagnosis'], palette='OrRd')\n",
    "ax.set_xticklabels(['H1N1','COVID19'])\n",
    "for p in ax.patches:\n",
    "    ax.annotate('{:d}'.format(p.get_height()), (p.get_x()+0.40, p.get_height()+1))"
   ]
  },
  {
   "cell_type": "code",
   "execution_count": null,
   "metadata": {
    "execution": {
     "iopub.execute_input": "2021-07-27T18:49:04.345015Z",
     "iopub.status.busy": "2021-07-27T18:49:04.344587Z",
     "iopub.status.idle": "2021-07-27T18:49:33.877132Z",
     "shell.execute_reply": "2021-07-27T18:49:33.875997Z",
     "shell.execute_reply.started": "2021-07-27T18:49:04.344973Z"
    }
   },
   "outputs": [],
   "source": [
    "sns.pairplot(df)"
   ]
  },
  {
   "cell_type": "code",
   "execution_count": null,
   "metadata": {
    "execution": {
     "iopub.execute_input": "2021-07-27T18:49:33.878834Z",
     "iopub.status.busy": "2021-07-27T18:49:33.878460Z",
     "iopub.status.idle": "2021-07-27T18:49:34.107349Z",
     "shell.execute_reply": "2021-07-27T18:49:34.106458Z",
     "shell.execute_reply.started": "2021-07-27T18:49:33.878802Z"
    }
   },
   "outputs": [],
   "source": [
    "from sklearn.tree import DecisionTreeClassifier\n",
    "from sklearn.metrics import confusion_matrix, accuracy_score, roc_auc_score\n",
    "from sklearn.tree import plot_tree\n",
    "from timeit import default_timer as timer"
   ]
  },
  {
   "cell_type": "code",
   "execution_count": null,
   "metadata": {
    "execution": {
     "iopub.execute_input": "2021-07-27T18:49:34.109829Z",
     "iopub.status.busy": "2021-07-27T18:49:34.109369Z",
     "iopub.status.idle": "2021-07-27T18:49:34.125817Z",
     "shell.execute_reply": "2021-07-27T18:49:34.124752Z",
     "shell.execute_reply.started": "2021-07-27T18:49:34.109794Z"
    }
   },
   "outputs": [],
   "source": [
    "x = df.iloc[:,1:]\n",
    "x.head()"
   ]
  },
  {
   "cell_type": "code",
   "execution_count": null,
   "metadata": {
    "execution": {
     "iopub.execute_input": "2021-07-27T18:49:34.128029Z",
     "iopub.status.busy": "2021-07-27T18:49:34.127734Z",
     "iopub.status.idle": "2021-07-27T18:49:34.141812Z",
     "shell.execute_reply": "2021-07-27T18:49:34.140609Z",
     "shell.execute_reply.started": "2021-07-27T18:49:34.128002Z"
    }
   },
   "outputs": [],
   "source": [
    "y = df.iloc[:,0]\n",
    "y.head()"
   ]
  },
  {
   "cell_type": "code",
   "execution_count": null,
   "metadata": {
    "execution": {
     "iopub.execute_input": "2021-07-27T18:49:34.143786Z",
     "iopub.status.busy": "2021-07-27T18:49:34.143356Z",
     "iopub.status.idle": "2021-07-27T18:49:34.186530Z",
     "shell.execute_reply": "2021-07-27T18:49:34.185296Z",
     "shell.execute_reply.started": "2021-07-27T18:49:34.143738Z"
    }
   },
   "outputs": [],
   "source": [
    "path = r\"../input/training/Training Set.csv\"\n",
    "dfTrain = pd.read_csv(path)\n",
    "dfTrain.head(10)"
   ]
  },
  {
   "cell_type": "code",
   "execution_count": null,
   "metadata": {
    "execution": {
     "iopub.execute_input": "2021-07-27T18:49:34.188368Z",
     "iopub.status.busy": "2021-07-27T18:49:34.187952Z",
     "iopub.status.idle": "2021-07-27T18:49:34.211618Z",
     "shell.execute_reply": "2021-07-27T18:49:34.210597Z",
     "shell.execute_reply.started": "2021-07-27T18:49:34.188330Z"
    }
   },
   "outputs": [],
   "source": [
    "dfTrain.Diagnosis = dfTrain.Diagnosis.astype(\"category\").cat.codes\n",
    "dfTrain.Sex = dfTrain.Sex.astype(\"category\").cat.codes\n",
    "dfTrain.RiskFactors = dfTrain.RiskFactors.astype(\"category\").cat.codes\n",
    "dfTrain.Diarrhea = dfTrain.Diarrhea.astype(\"category\").cat.codes\n",
    "dfTrain.Fever = dfTrain.Fever.astype(\"category\").cat.codes\n",
    "dfTrain.Coughing = dfTrain.Coughing.astype(\"category\").cat.codes\n",
    "dfTrain.ShortnessOfBreath = dfTrain.ShortnessOfBreath.astype(\"category\").cat.codes\n",
    "dfTrain.SoreThroat = dfTrain.SoreThroat.astype(\"category\").cat.codes\n",
    "dfTrain.NauseaVomitting = dfTrain.NauseaVomitting.astype(\"category\").cat.codes\n",
    "dfTrain.Fatigue = dfTrain.Fatigue.astype(\"category\").cat.codes\n",
    "dfTrain.Cancer = dfTrain.Cancer.astype(\"category\").cat.codes"
   ]
  },
  {
   "cell_type": "code",
   "execution_count": null,
   "metadata": {
    "execution": {
     "iopub.execute_input": "2021-07-27T18:49:34.213388Z",
     "iopub.status.busy": "2021-07-27T18:49:34.212977Z",
     "iopub.status.idle": "2021-07-27T18:49:34.235973Z",
     "shell.execute_reply": "2021-07-27T18:49:34.234805Z",
     "shell.execute_reply.started": "2021-07-27T18:49:34.213345Z"
    }
   },
   "outputs": [],
   "source": [
    "x_train = dfTrain.iloc[:,:-1]\n",
    "x_train"
   ]
  },
  {
   "cell_type": "code",
   "execution_count": null,
   "metadata": {
    "execution": {
     "iopub.execute_input": "2021-07-27T18:49:34.237838Z",
     "iopub.status.busy": "2021-07-27T18:49:34.237464Z",
     "iopub.status.idle": "2021-07-27T18:49:34.250708Z",
     "shell.execute_reply": "2021-07-27T18:49:34.249679Z",
     "shell.execute_reply.started": "2021-07-27T18:49:34.237805Z"
    }
   },
   "outputs": [],
   "source": [
    "y_train = dfTrain.iloc[:,-1]\n",
    "y_train"
   ]
  },
  {
   "cell_type": "code",
   "execution_count": null,
   "metadata": {
    "execution": {
     "iopub.execute_input": "2021-07-27T18:49:34.252346Z",
     "iopub.status.busy": "2021-07-27T18:49:34.251953Z",
     "iopub.status.idle": "2021-07-27T18:49:34.304787Z",
     "shell.execute_reply": "2021-07-27T18:49:34.303784Z",
     "shell.execute_reply.started": "2021-07-27T18:49:34.252265Z"
    }
   },
   "outputs": [],
   "source": [
    "path = r\"../input/testing/Testing Set.csv\"\n",
    "dfTest = pd.read_csv(path)\n",
    "dfTest.head(10)"
   ]
  },
  {
   "cell_type": "code",
   "execution_count": null,
   "metadata": {
    "execution": {
     "iopub.execute_input": "2021-07-27T18:49:34.306382Z",
     "iopub.status.busy": "2021-07-27T18:49:34.306114Z",
     "iopub.status.idle": "2021-07-27T18:49:34.328227Z",
     "shell.execute_reply": "2021-07-27T18:49:34.327161Z",
     "shell.execute_reply.started": "2021-07-27T18:49:34.306356Z"
    }
   },
   "outputs": [],
   "source": [
    "dfTest.Diagnosis = dfTest.Diagnosis.astype(\"category\").cat.codes\n",
    "dfTest.Sex = dfTest.Sex.astype(\"category\").cat.codes\n",
    "dfTest.RiskFactors = dfTest.RiskFactors.astype(\"category\").cat.codes\n",
    "dfTest.Diarrhea = dfTest.Diarrhea.astype(\"category\").cat.codes\n",
    "dfTest.Fever = dfTest.Fever.astype(\"category\").cat.codes\n",
    "dfTest.Coughing = dfTest.Coughing.astype(\"category\").cat.codes\n",
    "dfTest.ShortnessOfBreath = dfTest.ShortnessOfBreath.astype(\"category\").cat.codes\n",
    "dfTest.SoreThroat = dfTest.SoreThroat.astype(\"category\").cat.codes\n",
    "dfTest.NauseaVomitting = dfTest.NauseaVomitting.astype(\"category\").cat.codes\n",
    "dfTest.Fatigue = dfTest.Fatigue.astype(\"category\").cat.codes\n",
    "dfTest.Cancer = dfTest.Cancer.astype(\"category\").cat.codes"
   ]
  },
  {
   "cell_type": "code",
   "execution_count": null,
   "metadata": {
    "execution": {
     "iopub.execute_input": "2021-07-27T18:49:34.331165Z",
     "iopub.status.busy": "2021-07-27T18:49:34.330832Z",
     "iopub.status.idle": "2021-07-27T18:49:34.351967Z",
     "shell.execute_reply": "2021-07-27T18:49:34.350866Z",
     "shell.execute_reply.started": "2021-07-27T18:49:34.331135Z"
    }
   },
   "outputs": [],
   "source": [
    "x_test = dfTest.iloc[:,:-1]\n",
    "x_test"
   ]
  },
  {
   "cell_type": "code",
   "execution_count": null,
   "metadata": {
    "execution": {
     "iopub.execute_input": "2021-07-27T18:49:34.353382Z",
     "iopub.status.busy": "2021-07-27T18:49:34.353113Z",
     "iopub.status.idle": "2021-07-27T18:49:34.360982Z",
     "shell.execute_reply": "2021-07-27T18:49:34.359943Z",
     "shell.execute_reply.started": "2021-07-27T18:49:34.353356Z"
    }
   },
   "outputs": [],
   "source": [
    "y_test = dfTest.iloc[:,-1]\n",
    "y_test"
   ]
  },
  {
   "cell_type": "code",
   "execution_count": null,
   "metadata": {
    "execution": {
     "iopub.execute_input": "2021-07-27T18:49:34.363053Z",
     "iopub.status.busy": "2021-07-27T18:49:34.362647Z",
     "iopub.status.idle": "2021-07-27T18:49:34.382427Z",
     "shell.execute_reply": "2021-07-27T18:49:34.380975Z",
     "shell.execute_reply.started": "2021-07-27T18:49:34.363009Z"
    }
   },
   "outputs": [],
   "source": [
    "dfTrain['Diagnosis'].value_counts()"
   ]
  },
  {
   "cell_type": "code",
   "execution_count": null,
   "metadata": {
    "execution": {
     "iopub.execute_input": "2021-07-27T18:49:34.384570Z",
     "iopub.status.busy": "2021-07-27T18:49:34.383938Z",
     "iopub.status.idle": "2021-07-27T18:49:34.394137Z",
     "shell.execute_reply": "2021-07-27T18:49:34.393111Z",
     "shell.execute_reply.started": "2021-07-27T18:49:34.384521Z"
    }
   },
   "outputs": [],
   "source": [
    "dfTest['Diagnosis'].value_counts()"
   ]
  },
  {
   "cell_type": "code",
   "execution_count": null,
   "metadata": {
    "execution": {
     "iopub.execute_input": "2021-07-27T18:49:34.396250Z",
     "iopub.status.busy": "2021-07-27T18:49:34.395830Z",
     "iopub.status.idle": "2021-07-27T18:49:46.401431Z",
     "shell.execute_reply": "2021-07-27T18:49:46.400280Z",
     "shell.execute_reply.started": "2021-07-27T18:49:34.396208Z"
    }
   },
   "outputs": [],
   "source": [
    "a = timer()\n",
    "dt = DecisionTreeClassifier(criterion = \"gini\")\n",
    "b = timer()\n",
    "\n",
    "dt.fit(x_train, y_train)\n",
    "\n",
    "plt.figure(figsize=(60,30))\n",
    "plot_tree(dt, feature_names = x.columns,class_names=['H1N1', \"COVID\"],filled=True);"
   ]
  },
  {
   "cell_type": "code",
   "execution_count": null,
   "metadata": {
    "execution": {
     "iopub.execute_input": "2021-07-27T18:49:46.403141Z",
     "iopub.status.busy": "2021-07-27T18:49:46.402727Z",
     "iopub.status.idle": "2021-07-27T18:49:46.415641Z",
     "shell.execute_reply": "2021-07-27T18:49:46.414388Z",
     "shell.execute_reply.started": "2021-07-27T18:49:46.403097Z"
    }
   },
   "outputs": [],
   "source": [
    "c = timer()\n",
    "y_test_pred = dt.predict(x_test)\n",
    "d = timer()\n",
    "\n",
    "delta = b - a\n",
    "delta1 = d - c\n",
    "\n",
    "print(delta)\n",
    "print(delta1)"
   ]
  },
  {
   "cell_type": "code",
   "execution_count": null,
   "metadata": {
    "execution": {
     "iopub.execute_input": "2021-07-27T18:49:46.417376Z",
     "iopub.status.busy": "2021-07-27T18:49:46.417047Z",
     "iopub.status.idle": "2021-07-27T18:49:46.426703Z",
     "shell.execute_reply": "2021-07-27T18:49:46.425482Z",
     "shell.execute_reply.started": "2021-07-27T18:49:46.417344Z"
    }
   },
   "outputs": [],
   "source": [
    "print(\"Accuracy Score-Train: \",accuracy_score(y_test, y_test_pred))"
   ]
  },
  {
   "cell_type": "code",
   "execution_count": null,
   "metadata": {
    "execution": {
     "iopub.execute_input": "2021-07-27T18:49:46.428497Z",
     "iopub.status.busy": "2021-07-27T18:49:46.428220Z",
     "iopub.status.idle": "2021-07-27T18:49:46.443974Z",
     "shell.execute_reply": "2021-07-27T18:49:46.442924Z",
     "shell.execute_reply.started": "2021-07-27T18:49:46.428469Z"
    }
   },
   "outputs": [],
   "source": [
    "results = confusion_matrix(y_test, y_test_pred)\n",
    "print('TN ' ,results[0][0])\n",
    "print('TP ' ,results[1][1])\n",
    "print('FN ' ,results[1][0])\n",
    "print('FP ' ,results[0][1])\n",
    "print(results)"
   ]
  },
  {
   "cell_type": "code",
   "execution_count": null,
   "metadata": {
    "execution": {
     "iopub.execute_input": "2021-07-27T18:49:46.445624Z",
     "iopub.status.busy": "2021-07-27T18:49:46.445331Z",
     "iopub.status.idle": "2021-07-27T18:49:59.293867Z",
     "shell.execute_reply": "2021-07-27T18:49:59.293007Z",
     "shell.execute_reply.started": "2021-07-27T18:49:46.445596Z"
    }
   },
   "outputs": [],
   "source": [
    "a = timer()\n",
    "dt = DecisionTreeClassifier(criterion = \"entropy\")\n",
    "b = timer()\n",
    "\n",
    "dt.fit(x_train, y_train)\n",
    "\n",
    "plt.figure(figsize=(60,30))\n",
    "plot_tree(dt, feature_names = x.columns,class_names=['H1N1', \"COVID\"],filled=True);"
   ]
  },
  {
   "cell_type": "code",
   "execution_count": null,
   "metadata": {
    "execution": {
     "iopub.execute_input": "2021-07-27T18:49:59.295307Z",
     "iopub.status.busy": "2021-07-27T18:49:59.294870Z",
     "iopub.status.idle": "2021-07-27T18:49:59.304850Z",
     "shell.execute_reply": "2021-07-27T18:49:59.303629Z",
     "shell.execute_reply.started": "2021-07-27T18:49:59.295276Z"
    }
   },
   "outputs": [],
   "source": [
    "c = timer()\n",
    "y_test_pred = dt.predict(x_test)\n",
    "d = timer()\n",
    "\n",
    "delta = b - a\n",
    "delta1 = d - c\n",
    "\n",
    "print(delta)\n",
    "print(delta1)"
   ]
  },
  {
   "cell_type": "code",
   "execution_count": null,
   "metadata": {
    "execution": {
     "iopub.execute_input": "2021-07-27T18:49:59.308023Z",
     "iopub.status.busy": "2021-07-27T18:49:59.307733Z",
     "iopub.status.idle": "2021-07-27T18:49:59.319691Z",
     "shell.execute_reply": "2021-07-27T18:49:59.318367Z",
     "shell.execute_reply.started": "2021-07-27T18:49:59.307994Z"
    }
   },
   "outputs": [],
   "source": [
    "print(\"Accuracy Score-Train: \",accuracy_score(y_test, y_test_pred))"
   ]
  },
  {
   "cell_type": "code",
   "execution_count": null,
   "metadata": {
    "execution": {
     "iopub.execute_input": "2021-07-27T18:49:59.321443Z",
     "iopub.status.busy": "2021-07-27T18:49:59.321149Z",
     "iopub.status.idle": "2021-07-27T18:49:59.336753Z",
     "shell.execute_reply": "2021-07-27T18:49:59.335561Z",
     "shell.execute_reply.started": "2021-07-27T18:49:59.321415Z"
    }
   },
   "outputs": [],
   "source": [
    "results = confusion_matrix(y_test, y_test_pred)\n",
    "print('TN ' ,results[0][0])\n",
    "print('TP ' ,results[1][1])\n",
    "print('FN ' ,results[1][0])\n",
    "print('FP ' ,results[0][1])\n",
    "print(results)"
   ]
  },
  {
   "cell_type": "code",
   "execution_count": null,
   "metadata": {
    "execution": {
     "iopub.execute_input": "2021-07-27T18:49:59.338629Z",
     "iopub.status.busy": "2021-07-27T18:49:59.338251Z",
     "iopub.status.idle": "2021-07-27T18:49:59.348617Z",
     "shell.execute_reply": "2021-07-27T18:49:59.347526Z",
     "shell.execute_reply.started": "2021-07-27T18:49:59.338593Z"
    }
   },
   "outputs": [],
   "source": [
    "dt.tree_.node_count"
   ]
  }
 ],
 "metadata": {
  "kernelspec": {
   "display_name": "Python 3",
   "language": "python",
   "name": "python3"
  },
  "language_info": {
   "codemirror_mode": {
    "name": "ipython",
    "version": 3
   },
   "file_extension": ".py",
   "mimetype": "text/x-python",
   "name": "python",
   "nbconvert_exporter": "python",
   "pygments_lexer": "ipython3",
   "version": "3.8.6"
  }
 },
 "nbformat": 4,
 "nbformat_minor": 4
}
