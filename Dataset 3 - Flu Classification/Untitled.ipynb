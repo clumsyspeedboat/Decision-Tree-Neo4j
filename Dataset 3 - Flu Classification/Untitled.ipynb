{
 "cells": [
  {
   "cell_type": "code",
   "execution_count": 1,
   "metadata": {},
   "outputs": [],
   "source": [
    "import pandas as pd"
   ]
  },
  {
   "cell_type": "code",
   "execution_count": 3,
   "metadata": {},
   "outputs": [],
   "source": [
    "df = pd.read_csv(\"Flu_Classification_Training_Dataset.csv\")"
   ]
  },
  {
   "cell_type": "code",
   "execution_count": 5,
   "metadata": {},
   "outputs": [
    {
     "name": "stdout",
     "output_type": "stream",
     "text": [
      "<class 'pandas.core.frame.DataFrame'>\n",
      "RangeIndex: 1113 entries, 0 to 1112\n",
      "Data columns (total 13 columns):\n",
      " #   Column             Non-Null Count  Dtype  \n",
      "---  ------             --------------  -----  \n",
      " 0   Age                1113 non-null   float64\n",
      " 1   Temperature        1113 non-null   float64\n",
      " 2   Sex                1113 non-null   object \n",
      " 3   RiskFactors        1113 non-null   object \n",
      " 4   Diarrhea           1113 non-null   object \n",
      " 5   Fever              1113 non-null   object \n",
      " 6   Coughing           1113 non-null   object \n",
      " 7   ShortnessOfBreath  1113 non-null   object \n",
      " 8   SoreThroat         1113 non-null   object \n",
      " 9   NauseaVomitting    1113 non-null   object \n",
      " 10  Fatigue            1113 non-null   object \n",
      " 11  Cancer             1113 non-null   object \n",
      " 12  Diagnosis          1113 non-null   object \n",
      "dtypes: float64(2), object(11)\n",
      "memory usage: 113.2+ KB\n"
     ]
    }
   ],
   "source": [
    "df.info()"
   ]
  },
  {
   "cell_type": "code",
   "execution_count": null,
   "metadata": {},
   "outputs": [],
   "source": []
  }
 ],
 "metadata": {
  "kernelspec": {
   "display_name": "Python 3",
   "language": "python",
   "name": "python3"
  },
  "language_info": {
   "codemirror_mode": {
    "name": "ipython",
    "version": 3
   },
   "file_extension": ".py",
   "mimetype": "text/x-python",
   "name": "python",
   "nbconvert_exporter": "python",
   "pygments_lexer": "ipython3",
   "version": "3.8.2"
  }
 },
 "nbformat": 4,
 "nbformat_minor": 4
}
